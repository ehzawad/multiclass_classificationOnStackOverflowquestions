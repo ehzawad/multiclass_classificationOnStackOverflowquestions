{
 "cells": [
  {
   "cell_type": "code",
   "execution_count": 1,
   "id": "7eb13489-8bf4-4484-8086-6f12a8dc2f02",
   "metadata": {},
   "outputs": [],
   "source": [
    "import matplotlib.pyplot as plt\n",
    "import os\n",
    "import re\n",
    "import shutil\n",
    "import string\n",
    "import tensorflow as tf\n",
    "import numpy as np"
   ]
  },
  {
   "cell_type": "code",
   "execution_count": 2,
   "id": "8996c92f-ef5b-4e45-aac2-1018d663031c",
   "metadata": {},
   "outputs": [],
   "source": [
    "from tensorflow.keras import layers\n",
    "from tensorflow.keras import losses"
   ]
  },
  {
   "cell_type": "code",
   "execution_count": 3,
   "id": "5c332ca7-6498-4418-a100-94fc8b362b4b",
   "metadata": {},
   "outputs": [],
   "source": [
    "url = \"https://storage.googleapis.com/download.tensorflow.org/data/stack_overflow_16k.tar.gz\""
   ]
  },
  {
   "cell_type": "code",
   "execution_count": 4,
   "id": "9a695409-fbde-4951-9d70-81b4a5b70314",
   "metadata": {},
   "outputs": [],
   "source": [
    "dataset = tf.keras.utils.get_file(\"stack_overflow_16k\", url, untar=True, cache_dir='.', cache_subdir='')"
   ]
  },
  {
   "cell_type": "code",
   "execution_count": 5,
   "id": "e9b3fa0b-b438-4482-bffe-66e3c0c5f796",
   "metadata": {},
   "outputs": [
    {
     "name": "stdout",
     "output_type": "stream",
     "text": [
      "README.md  stack.ipynb\tstack_overflow_16k.tar.gz  test  train\n"
     ]
    }
   ],
   "source": [
    "!ls"
   ]
  },
  {
   "cell_type": "code",
   "execution_count": 6,
   "id": "ee0c18ac-aceb-4cea-9c62-fb6dfa1ba982",
   "metadata": {},
   "outputs": [],
   "source": [
    "train_dir = os.path.join('train')"
   ]
  },
  {
   "cell_type": "code",
   "execution_count": 7,
   "id": "67aa9bbe-be09-464c-a5e8-69b02c304346",
   "metadata": {},
   "outputs": [
    {
     "name": "stdout",
     "output_type": "stream",
     "text": [
      "csharp\tjava  javascript  python\n"
     ]
    }
   ],
   "source": [
    "!ls train"
   ]
  },
  {
   "cell_type": "code",
   "execution_count": 8,
   "id": "181590e5-1fa1-4756-b49c-1b868382ff2f",
   "metadata": {},
   "outputs": [
    {
     "data": {
      "text/plain": [
       "['python', 'java', 'csharp', 'javascript']"
      ]
     },
     "execution_count": 8,
     "metadata": {},
     "output_type": "execute_result"
    }
   ],
   "source": [
    "os.listdir(train_dir)"
   ]
  },
  {
   "cell_type": "code",
   "execution_count": 9,
   "id": "5b04ce64-5fa3-48a5-8c2d-0a6d9fcdc2b4",
   "metadata": {},
   "outputs": [],
   "source": [
    "sample_file1 = os.path.join(train_dir, 'java/1.txt')"
   ]
  },
  {
   "cell_type": "code",
   "execution_count": 10,
   "id": "0b69725b-f2a3-4bae-aa1c-d8836d3ba67a",
   "metadata": {},
   "outputs": [
    {
     "name": "stdout",
     "output_type": "stream",
     "text": [
      "\"add version to @@webservice i'm using blankx.jws.webservice to create my webservice, in addition to targetnamespace i would like to include a \"\"version\"\" attribute to mark the version of my service. what other tag can i use in addition to this one to accomplish this so my wdsl will look like:..&lt;schema targetnamespace=\"\"http://example.com/2009/02/15/webservice\"\" version=\"\"1.1\"\" xmlns=\"\"http://www.w3.org/2000/10/xmlschema&gt;...i.e. it has a version attribute\"\n",
      "\n"
     ]
    }
   ],
   "source": [
    "with open(sample_file1) as f:\n",
    "    print(f.read())"
   ]
  },
  {
   "cell_type": "code",
   "execution_count": 11,
   "id": "33b4977a-3f5a-40f5-9283-0a75ca60c47b",
   "metadata": {},
   "outputs": [
    {
     "name": "stdout",
     "output_type": "stream",
     "text": [
      "why does this blank program print true x=true.def stupid():.    x=false.stupid().print x\n",
      "\n"
     ]
    }
   ],
   "source": [
    "sample_file2 = os.path.join(train_dir, 'python/1755.txt')\n",
    "with open(sample_file2) as f:\n",
    "    print(f.read())"
   ]
  },
  {
   "cell_type": "code",
   "execution_count": 12,
   "id": "53e73688-19e7-4f1e-82ea-e2ed5f5e05f3",
   "metadata": {},
   "outputs": [
    {
     "name": "stdout",
     "output_type": "stream",
     "text": [
      "\"replace prototype dynamically by changing constructor property i am trying to make some good code example to experience blank's \"\"classlessness\"\". this is what i have come up with so far:..function one() {}.function two() {}..one.prototype.a = 5;.two.prototype.b = 4;..var obj = new one();.print(\"\"1) ctor =\"\", obj.constructor, \"\"a =\"\", obj.a, \"\" b =\"\", obj.b);.obj.constructor = two;.print(\"\"1) ctor =\"\", obj.constructor, \"\"a =\"\", obj.a, \"\" b =\"\", obj.b);..var objtwo = new obj.constructor();.print(\"\"2) ctor =\"\", objtwo.constructor, \"\"a =\"\", objtwo.a, \"\" b =\"\", objtwo.b);...and these are corresponding prints:..1) ctor = function one() {.} a = 5  b = undefined.1) ctor = function two() {.} a = 5  b = undefined.2) ctor = function two() {.} a = undefined  b = 4...my question is why prototype chain does not work here by the book? i run my example in ideone with blank (spidermonkey) (spidermonkey-1.7). it looks like in real life prototype is accessed somehow else than constructor.prototype?..p.s. further experimentation shows that assigning to obj.constructor adds new property, which shadows the original one. why?..\"\n",
      "\n"
     ]
    }
   ],
   "source": [
    "sample_file3 = os.path.join(train_dir, 'javascript/17.txt')\n",
    "with open(sample_file3) as f:\n",
    "    print(f.read())"
   ]
  },
  {
   "cell_type": "code",
   "execution_count": 13,
   "id": "28b8b496-8e46-4ad3-a427-6369aeb3d57f",
   "metadata": {},
   "outputs": [
    {
     "name": "stdout",
     "output_type": "stream",
     "text": [
      "Found 8000 files belonging to 4 classes.\n",
      "Using 6400 files for training.\n"
     ]
    },
    {
     "name": "stderr",
     "output_type": "stream",
     "text": [
      "2022-03-23 17:35:39.005508: I tensorflow/stream_executor/cuda/cuda_gpu_executor.cc:936] successful NUMA node read from SysFS had negative value (-1), but there must be at least one NUMA node, so returning NUMA node zero\n",
      "2022-03-23 17:35:39.021727: W tensorflow/stream_executor/platform/default/dso_loader.cc:64] Could not load dynamic library 'libcusolver.so.11'; dlerror: libcusolver.so.11: cannot open shared object file: No such file or directory; LD_LIBRARY_PATH: /usr/lib64/:/usr/local/lib:/usr/local/lib/fst:/usr/local/lib:/usr/local/lib/fst\n",
      "2022-03-23 17:35:39.023480: W tensorflow/stream_executor/platform/default/dso_loader.cc:64] Could not load dynamic library 'libcudnn.so.8'; dlerror: libcudnn.so.8: cannot open shared object file: No such file or directory; LD_LIBRARY_PATH: /usr/lib64/:/usr/local/lib:/usr/local/lib/fst:/usr/local/lib:/usr/local/lib/fst\n",
      "2022-03-23 17:35:39.023536: W tensorflow/core/common_runtime/gpu/gpu_device.cc:1850] Cannot dlopen some GPU libraries. Please make sure the missing libraries mentioned above are installed properly if you would like to use GPU. Follow the guide at https://www.tensorflow.org/install/gpu for how to download and setup the required libraries for your platform.\n",
      "Skipping registering GPU devices...\n"
     ]
    }
   ],
   "source": [
    "batch_size = 16\n",
    "seed = 42\n",
    "\n",
    "raw_train_ds = tf.keras.utils.text_dataset_from_directory(train_dir, batch_size=batch_size, validation_split=0.20, subset='training', seed=seed)"
   ]
  },
  {
   "cell_type": "code",
   "execution_count": 14,
   "id": "96a431e1-60e6-48a5-a8f4-6f0d145bafbc",
   "metadata": {},
   "outputs": [
    {
     "name": "stdout",
     "output_type": "stream",
     "text": [
      "Label: 0 corresponding to: csharp\n",
      "Label: 1 corresponding to: java\n",
      "Label: 2 corresponding to: javascript\n",
      "Label: 3 corresponding to: python\n"
     ]
    }
   ],
   "source": [
    "# print(\"Label 0 corresponds to\", raw_train_ds.class_names[0])\n",
    "# print(\"Label 1 corresponds to\", raw_train_ds.class_names[1])\n",
    "# print(\"Label 2 corresponds to\", raw_train_ds.class_names[2])\n",
    "# print(\"Label 3 corresponds to\", raw_train_ds.class_names[3])\n",
    "\n",
    "for i, label in enumerate(raw_train_ds.class_names):\n",
    "    print(\"Label:\", i, \"corresponding to:\", label)"
   ]
  },
  {
   "cell_type": "code",
   "execution_count": 15,
   "id": "9e098200-fdd5-4ff0-abd4-2c39a507cd43",
   "metadata": {},
   "outputs": [
    {
     "name": "stdout",
     "output_type": "stream",
     "text": [
      "Found 8000 files belonging to 4 classes.\n",
      "Using 1600 files for validation.\n"
     ]
    }
   ],
   "source": [
    "raw_val_ds = tf.keras.utils.text_dataset_from_directory(train_dir, batch_size=batch_size, validation_split=0.2, subset='validation', seed=seed)"
   ]
  },
  {
   "cell_type": "code",
   "execution_count": 16,
   "id": "a512ea57-a902-4d01-b77f-988e4609d2a2",
   "metadata": {},
   "outputs": [
    {
     "name": "stdout",
     "output_type": "stream",
     "text": [
      "Found 8000 files belonging to 4 classes.\n"
     ]
    }
   ],
   "source": [
    "raw_test_ds = tf.keras.utils.text_dataset_from_directory('test', batch_size=batch_size)"
   ]
  },
  {
   "cell_type": "code",
   "execution_count": 18,
   "id": "ba1d6487-1080-42c4-9763-fc9eb39c17ee",
   "metadata": {},
   "outputs": [],
   "source": [
    "VOCAB_SIZE = 10000\n",
    "# binary_vectorize_layer = layers.TextVectorization(max_tokens=VOCAB_SIZE, output_mode='binary')\n",
    "MAX_SEQUENCE_LENGTH = 250"
   ]
  },
  {
   "cell_type": "code",
   "execution_count": 19,
   "id": "7d81ab4d-9834-4964-9966-a2b89c45b1a2",
   "metadata": {},
   "outputs": [],
   "source": [
    "int_vectorize_layer = layers.TextVectorization(max_tokens=VOCAB_SIZE,output_mode='int', output_sequence_length=MAX_SEQUENCE_LENGTH)"
   ]
  },
  {
   "cell_type": "code",
   "execution_count": 20,
   "id": "a26e36b7-6eb1-439d-a856-b285b5249bb1",
   "metadata": {},
   "outputs": [],
   "source": [
    "# We do not want label\n",
    "train_text = raw_train_ds.map(lambda text, label: text)"
   ]
  },
  {
   "cell_type": "code",
   "execution_count": 22,
   "id": "7f3d2868-7337-4595-b47c-4d6bceca59f3",
   "metadata": {},
   "outputs": [],
   "source": [
    "int_vectorize_layer.adapt(train_text)"
   ]
  },
  {
   "cell_type": "code",
   "execution_count": 69,
   "id": "bdbaa39f-a9e1-40b5-9709-7d49d865e24b",
   "metadata": {},
   "outputs": [],
   "source": [
    "def int_vectorize_text(text, label):\n",
    "  text = tf.expand_dims(text, -1)\n",
    "  return int_vectorize_layer(text), label\n",
    "\n",
    "int_train_ds = raw_train_ds.map(int_vectorize_text)\n",
    "int_val_ds = raw_val_ds.map(int_vectorize_text)\n",
    "int_test_ds = raw_test_ds.map(int_vectorize_text)"
   ]
  },
  {
   "cell_type": "code",
   "execution_count": 24,
   "id": "32c0a2a4-1641-45db-90f4-5c47b4939fb8",
   "metadata": {},
   "outputs": [],
   "source": [
    "AUTOTUNE = tf.data.AUTOTUNE\n",
    "\n",
    "def configure_dataset(dataset):\n",
    "  return dataset.cache().prefetch(buffer_size=AUTOTUNE)\n",
    "\n",
    "int_train_ds = configure_dataset(int_train_ds)\n",
    "int_val_ds = configure_dataset(int_val_ds)\n",
    "int_test_ds = configure_dataset(int_test_ds)"
   ]
  },
  {
   "cell_type": "code",
   "execution_count": 34,
   "id": "402cb972-b72b-4e63-b0bc-8ec2142bee6e",
   "metadata": {},
   "outputs": [],
   "source": [
    "embedding_dim = 16\n"
   ]
  },
  {
   "cell_type": "code",
   "execution_count": 35,
   "id": "a3a57d46-2e80-4bb5-9586-8d328b6230b8",
   "metadata": {},
   "outputs": [],
   "source": [
    "model = tf.keras.Sequential([\n",
    "  layers.Embedding(VOCAB_SIZE + 1, embedding_dim),\n",
    "  layers.Dropout(0.2),\n",
    "  layers.GlobalAveragePooling1D(),\n",
    "  layers.Dropout(0.2),\n",
    "  layers.Dense(4)] \n",
    ")"
   ]
  },
  {
   "cell_type": "code",
   "execution_count": 36,
   "id": "9f8036e1-c8cb-4ddf-89f1-f60d709a6f25",
   "metadata": {},
   "outputs": [],
   "source": [
    "model.compile(loss=tf.losses.SparseCategoricalCrossentropy(from_logits=True), optimizer='adam', metrics=['accuracy'])"
   ]
  },
  {
   "cell_type": "code",
   "execution_count": 39,
   "id": "e0b79752-51a3-4b05-a7e3-00b5c7ea56fb",
   "metadata": {},
   "outputs": [],
   "source": [
    "epochs = 20"
   ]
  },
  {
   "cell_type": "code",
   "execution_count": 40,
   "id": "00b96e31-d2b2-4873-981d-98b21b5db60f",
   "metadata": {},
   "outputs": [
    {
     "name": "stdout",
     "output_type": "stream",
     "text": [
      "Epoch 1/20\n",
      "400/400 [==============================] - 2s 4ms/step - loss: 0.4714 - accuracy: 0.8622 - val_loss: 0.5524 - val_accuracy: 0.8144\n",
      "Epoch 2/20\n",
      "400/400 [==============================] - 2s 6ms/step - loss: 0.4497 - accuracy: 0.8714 - val_loss: 0.5382 - val_accuracy: 0.8150\n",
      "Epoch 3/20\n",
      "400/400 [==============================] - 2s 5ms/step - loss: 0.4267 - accuracy: 0.8823 - val_loss: 0.5266 - val_accuracy: 0.8219\n",
      "Epoch 4/20\n",
      "400/400 [==============================] - 2s 4ms/step - loss: 0.4109 - accuracy: 0.8869 - val_loss: 0.5168 - val_accuracy: 0.8250\n",
      "Epoch 5/20\n",
      "400/400 [==============================] - 2s 5ms/step - loss: 0.3895 - accuracy: 0.8961 - val_loss: 0.5087 - val_accuracy: 0.8269\n",
      "Epoch 6/20\n",
      "400/400 [==============================] - 2s 4ms/step - loss: 0.3724 - accuracy: 0.8997 - val_loss: 0.5012 - val_accuracy: 0.8256\n",
      "Epoch 7/20\n",
      "400/400 [==============================] - 2s 5ms/step - loss: 0.3549 - accuracy: 0.9066 - val_loss: 0.4938 - val_accuracy: 0.8275\n",
      "Epoch 8/20\n",
      "400/400 [==============================] - 2s 5ms/step - loss: 0.3425 - accuracy: 0.9072 - val_loss: 0.4884 - val_accuracy: 0.8300\n",
      "Epoch 9/20\n",
      "400/400 [==============================] - 2s 5ms/step - loss: 0.3264 - accuracy: 0.9139 - val_loss: 0.4829 - val_accuracy: 0.8269\n",
      "Epoch 10/20\n",
      "400/400 [==============================] - 2s 5ms/step - loss: 0.3140 - accuracy: 0.9183 - val_loss: 0.4788 - val_accuracy: 0.8319\n",
      "Epoch 11/20\n",
      "400/400 [==============================] - 2s 6ms/step - loss: 0.3008 - accuracy: 0.9209 - val_loss: 0.4752 - val_accuracy: 0.8306\n",
      "Epoch 12/20\n",
      "400/400 [==============================] - 2s 5ms/step - loss: 0.2888 - accuracy: 0.9252 - val_loss: 0.4729 - val_accuracy: 0.8275\n",
      "Epoch 13/20\n",
      "400/400 [==============================] - 2s 4ms/step - loss: 0.2757 - accuracy: 0.9292 - val_loss: 0.4705 - val_accuracy: 0.8294\n",
      "Epoch 14/20\n",
      "400/400 [==============================] - 2s 4ms/step - loss: 0.2633 - accuracy: 0.9322 - val_loss: 0.4681 - val_accuracy: 0.8313\n",
      "Epoch 15/20\n",
      "400/400 [==============================] - 2s 4ms/step - loss: 0.2563 - accuracy: 0.9358 - val_loss: 0.4681 - val_accuracy: 0.8344\n",
      "Epoch 16/20\n",
      "400/400 [==============================] - 2s 5ms/step - loss: 0.2454 - accuracy: 0.9381 - val_loss: 0.4670 - val_accuracy: 0.8313\n",
      "Epoch 17/20\n",
      "400/400 [==============================] - 2s 5ms/step - loss: 0.2344 - accuracy: 0.9406 - val_loss: 0.4665 - val_accuracy: 0.8344\n",
      "Epoch 18/20\n",
      "400/400 [==============================] - 2s 5ms/step - loss: 0.2262 - accuracy: 0.9425 - val_loss: 0.4690 - val_accuracy: 0.8300\n",
      "Epoch 19/20\n",
      "400/400 [==============================] - 2s 5ms/step - loss: 0.2165 - accuracy: 0.9472 - val_loss: 0.4677 - val_accuracy: 0.8294\n",
      "Epoch 20/20\n",
      "400/400 [==============================] - 2s 5ms/step - loss: 0.2049 - accuracy: 0.9513 - val_loss: 0.4688 - val_accuracy: 0.8325\n"
     ]
    }
   ],
   "source": [
    "history = model.fit(int_train_ds, validation_data=int_val_ds, epochs=epochs)"
   ]
  },
  {
   "cell_type": "code",
   "execution_count": 41,
   "id": "87e6c7f8-80f4-46ab-b812-7a929ac6abfa",
   "metadata": {},
   "outputs": [
    {
     "name": "stdout",
     "output_type": "stream",
     "text": [
      "500/500 [==============================] - 1s 2ms/step - loss: 0.5312 - accuracy: 0.8033\n"
     ]
    }
   ],
   "source": [
    "loss, accuracy = model.evaluate(int_test_ds)"
   ]
  },
  {
   "cell_type": "code",
   "execution_count": 42,
   "id": "d96fa3b0-da2c-4fdd-90d9-24a684784dc1",
   "metadata": {},
   "outputs": [
    {
     "data": {
      "text/plain": [
       "dict_keys(['loss', 'accuracy', 'val_loss', 'val_accuracy'])"
      ]
     },
     "execution_count": 42,
     "metadata": {},
     "output_type": "execute_result"
    }
   ],
   "source": [
    "history_dict = history.history\n",
    "history_dict.keys()"
   ]
  },
  {
   "cell_type": "code",
   "execution_count": 43,
   "id": "1076dfee-1129-41f6-9988-1cf3c75f11cf",
   "metadata": {},
   "outputs": [
    {
     "data": {
      "text/plain": [
       "4"
      ]
     },
     "execution_count": 43,
     "metadata": {},
     "output_type": "execute_result"
    }
   ],
   "source": [
    "len(history_dict)"
   ]
  },
  {
   "cell_type": "code",
   "execution_count": 44,
   "id": "b54aad2b-70f0-431e-9d57-e2dc1dd410a2",
   "metadata": {},
   "outputs": [],
   "source": [
    "acc = history_dict['accuracy']"
   ]
  },
  {
   "cell_type": "code",
   "execution_count": 45,
   "id": "fafb5dc3-608e-410d-8b96-5206b748030c",
   "metadata": {},
   "outputs": [
    {
     "data": {
      "text/plain": [
       "[0.8621875047683716,\n",
       " 0.8714062571525574,\n",
       " 0.8823437690734863,\n",
       " 0.8868749737739563,\n",
       " 0.8960937261581421,\n",
       " 0.8996875286102295,\n",
       " 0.9065625071525574,\n",
       " 0.9071875214576721,\n",
       " 0.9139062762260437,\n",
       " 0.9182812571525574,\n",
       " 0.9209374785423279,\n",
       " 0.9251562356948853,\n",
       " 0.9292187690734863,\n",
       " 0.9321874976158142,\n",
       " 0.9357812404632568,\n",
       " 0.9381250143051147,\n",
       " 0.940625011920929,\n",
       " 0.9424999952316284,\n",
       " 0.9471874833106995,\n",
       " 0.9512500166893005]"
      ]
     },
     "execution_count": 45,
     "metadata": {},
     "output_type": "execute_result"
    }
   ],
   "source": [
    "acc"
   ]
  },
  {
   "cell_type": "code",
   "execution_count": 46,
   "id": "9027060e-739c-440e-bc96-1a58081620e6",
   "metadata": {},
   "outputs": [],
   "source": [
    "val_acc = history_dict['val_accuracy']"
   ]
  },
  {
   "cell_type": "code",
   "execution_count": 47,
   "id": "74d2e3c1-0262-4d79-ae12-2aed4ed6d4b2",
   "metadata": {},
   "outputs": [
    {
     "data": {
      "text/plain": [
       "[0.8143749833106995,\n",
       " 0.8149999976158142,\n",
       " 0.8218749761581421,\n",
       " 0.824999988079071,\n",
       " 0.8268749713897705,\n",
       " 0.8256250023841858,\n",
       " 0.8274999856948853,\n",
       " 0.8299999833106995,\n",
       " 0.8268749713897705,\n",
       " 0.8318750262260437,\n",
       " 0.8306249976158142,\n",
       " 0.8274999856948853,\n",
       " 0.8293750286102295,\n",
       " 0.831250011920929,\n",
       " 0.8343750238418579,\n",
       " 0.831250011920929,\n",
       " 0.8343750238418579,\n",
       " 0.8299999833106995,\n",
       " 0.8293750286102295,\n",
       " 0.8324999809265137]"
      ]
     },
     "execution_count": 47,
     "metadata": {},
     "output_type": "execute_result"
    }
   ],
   "source": [
    "val_acc"
   ]
  },
  {
   "cell_type": "code",
   "execution_count": 48,
   "id": "e421c5fc-4e86-47ee-adf4-1ab8178c3600",
   "metadata": {},
   "outputs": [],
   "source": [
    "loss = history_dict['loss']"
   ]
  },
  {
   "cell_type": "code",
   "execution_count": 49,
   "id": "4832208f-9086-4d9b-b0b3-c9ce6a024e75",
   "metadata": {},
   "outputs": [
    {
     "data": {
      "text/plain": [
       "[0.47139686346054077,\n",
       " 0.44969165325164795,\n",
       " 0.42669355869293213,\n",
       " 0.410861998796463,\n",
       " 0.3894678056240082,\n",
       " 0.37238940596580505,\n",
       " 0.3548586666584015,\n",
       " 0.342479944229126,\n",
       " 0.32644790410995483,\n",
       " 0.3139822483062744,\n",
       " 0.3007865250110626,\n",
       " 0.2887516915798187,\n",
       " 0.2757001519203186,\n",
       " 0.26330289244651794,\n",
       " 0.2562512457370758,\n",
       " 0.2453950047492981,\n",
       " 0.23443889617919922,\n",
       " 0.22616048157215118,\n",
       " 0.21651601791381836,\n",
       " 0.20492671430110931]"
      ]
     },
     "execution_count": 49,
     "metadata": {},
     "output_type": "execute_result"
    }
   ],
   "source": [
    "loss"
   ]
  },
  {
   "cell_type": "code",
   "execution_count": 50,
   "id": "a1471a7d-705e-46ae-b3f8-f4bf5b87d3a0",
   "metadata": {},
   "outputs": [],
   "source": [
    "val_loss = history_dict['val_loss']"
   ]
  },
  {
   "cell_type": "code",
   "execution_count": 51,
   "id": "81c6aff1-859a-4cd5-b2cc-f3ddee36c867",
   "metadata": {},
   "outputs": [
    {
     "data": {
      "text/plain": [
       "[0.5524168014526367,\n",
       " 0.538154125213623,\n",
       " 0.5266258716583252,\n",
       " 0.5168126821517944,\n",
       " 0.508675754070282,\n",
       " 0.5011959075927734,\n",
       " 0.4937545359134674,\n",
       " 0.48841598629951477,\n",
       " 0.4828927218914032,\n",
       " 0.47880253195762634,\n",
       " 0.4751628041267395,\n",
       " 0.4728507995605469,\n",
       " 0.47045108675956726,\n",
       " 0.4680542051792145,\n",
       " 0.4680803716182709,\n",
       " 0.46697941422462463,\n",
       " 0.46645522117614746,\n",
       " 0.4689817428588867,\n",
       " 0.46770134568214417,\n",
       " 0.4688432216644287]"
      ]
     },
     "execution_count": 51,
     "metadata": {},
     "output_type": "execute_result"
    }
   ],
   "source": [
    "val_loss"
   ]
  },
  {
   "cell_type": "code",
   "execution_count": 52,
   "id": "b3ed902b-b1b7-4766-92f1-eb7c2fab41e2",
   "metadata": {},
   "outputs": [],
   "source": [
    "# Plot the accuracy and loss\n",
    "# Start counting from 1\n",
    "epochs = range(1, len(acc) + 1)"
   ]
  },
  {
   "cell_type": "code",
   "execution_count": 53,
   "id": "59b496a3-05b0-4476-a425-3408b5079628",
   "metadata": {},
   "outputs": [
    {
     "data": {
      "image/png": "[encoded data removed]",
      "text/plain": [
       "<Figure size 432x288 with 1 Axes>"
      ]
     },
     "metadata": {
      "needs_background": "light"
     },
     "output_type": "display_data"
    }
   ],
   "source": [
    "plt.plot(epochs, loss, 'bo', label='Training loss') # bo stands for \"blue dot\"\n",
    "plt.plot(epochs, val_loss, 'b', label='validation loss') # b stands for \"blue\"\n",
    "plt.title('Training and validation loss')\n",
    "plt.xlabel('Epochs')\n",
    "plt.ylabel('Loss')\n",
    "plt.legend()\n",
    "plt.show()"
   ]
  },
  {
   "cell_type": "code",
   "execution_count": 54,
   "id": "9f1aa9de-5392-42ef-ac75-51a26c2aca42",
   "metadata": {},
   "outputs": [
    {
     "data": {
      "image/png": "[encoded data removed]",
      "text/plain": [
       "<Figure size 432x288 with 1 Axes>"
      ]
     },
     "metadata": {
      "needs_background": "light"
     },
     "output_type": "display_data"
    }
   ],
   "source": [
    "# Same plotting for the accuracy\n",
    "plt.plot(epochs, acc, 'ro', label='Training Acc') # bo stands for \"blue dot\"\n",
    "plt.plot(epochs, val_acc, 'r', label='Validation Acc') # b stands for \"blue\"\n",
    "plt.title('Training and validation accuracy')\n",
    "plt.xlabel('Epochs')\n",
    "plt.ylabel('Accuracy')\n",
    "plt.legend(loc='lower right')\n",
    "plt.show()"
   ]
  },
  {
   "cell_type": "code",
   "execution_count": 57,
   "id": "1e692040-0de5-45b6-bb5a-08db9baab40e",
   "metadata": {},
   "outputs": [],
   "source": [
    "# Export the model for the production use\n",
    "Model_for_inference = tf.keras.Sequential([int_vectorize_layer, model, layers.Activation('sigmoid')])"
   ]
  },
  {
   "cell_type": "code",
   "execution_count": 58,
   "id": "a681fabb-e4fa-413d-ac92-f815bf554cae",
   "metadata": {},
   "outputs": [],
   "source": [
    "Model_for_inference.compile(\n",
    "    loss=losses.SparseCategoricalCrossentropy(from_logits=False), optimizer='adam', metrics=['accuracy'])"
   ]
  },
  {
   "cell_type": "code",
   "execution_count": 59,
   "id": "8a70e255-1a54-48a8-a059-8be9a3c808ba",
   "metadata": {},
   "outputs": [
    {
     "name": "stdout",
     "output_type": "stream",
     "text": [
      "500/500 [==============================] - 2s 3ms/step - loss: 0.5312 - accuracy: 0.8033\n"
     ]
    }
   ],
   "source": [
    "loss_I, accuracy_I = Model_for_inference.evaluate(raw_test_ds)"
   ]
  },
  {
   "cell_type": "code",
   "execution_count": 62,
   "id": "e0de1efa-9e02-4c25-a579-cb560c21a3ca",
   "metadata": {},
   "outputs": [],
   "source": [
    "# inferencing on new data\n",
    "def get_predicted_labels(predicted_scores_batch):\n",
    "    predicted_int_labels = tf.argmax(predicted_scores_batch, axis=1)\n",
    "    predicted_labels = tf.gather(raw_train_ds.class_names, predicted_int_labels)\n",
    "    \n",
    "    return predicted_labels"
   ]
  },
  {
   "cell_type": "code",
   "execution_count": 63,
   "id": "9ba177d4-7178-4684-923d-59b9a3e36e47",
   "metadata": {},
   "outputs": [],
   "source": [
    "examples = [\n",
    "    \n",
    " \"How do I extract keys from a dict into a list?\", # PYTHON\n",
    " \"debug public static void main(string[] args) { print('Hello world') }\", # JAVA\n",
    " \"console.log('Hello JS')\",\n",
    "    \n",
    "]"
   ]
  },
  {
   "cell_type": "code",
   "execution_count": 64,
   "id": "1fcde6ba-21c4-4f2a-b01e-3f2b0609220a",
   "metadata": {},
   "outputs": [],
   "source": [
    "predicted_scores = Model_for_inference.predict(examples)"
   ]
  },
  {
   "cell_type": "code",
   "execution_count": 65,
   "id": "f98077a5-be60-4e5f-93d6-f447feb9e279",
   "metadata": {},
   "outputs": [],
   "source": [
    "predicted_labels = get_predicted_labels(predicted_scores)"
   ]
  },
  {
   "cell_type": "code",
   "execution_count": 66,
   "id": "0197ed94-698c-46f5-8f26-08ca86b655c6",
   "metadata": {},
   "outputs": [
    {
     "data": {
      "text/plain": [
       "array([[0.43195593, 0.36770427, 0.47404352, 0.809546  ],\n",
       "       [0.8068458 , 0.8922657 , 0.07144797, 0.05808821],\n",
       "       [0.48185712, 0.37804326, 0.89270663, 0.26702103]], dtype=float32)"
      ]
     },
     "execution_count": 66,
     "metadata": {},
     "output_type": "execute_result"
    }
   ],
   "source": [
    "predicted_scores"
   ]
  },
  {
   "cell_type": "code",
   "execution_count": 67,
   "id": "7b6e3e96-e6c5-4f67-b4c6-2995a5f9df0d",
   "metadata": {},
   "outputs": [
    {
     "data": {
      "text/plain": [
       "<tf.Tensor: shape=(3,), dtype=string, numpy=array([b'python', b'java', b'javascript'], dtype=object)>"
      ]
     },
     "execution_count": 67,
     "metadata": {},
     "output_type": "execute_result"
    }
   ],
   "source": [
    "predicted_labels"
   ]
  },
  {
   "cell_type": "code",
   "execution_count": 68,
   "id": "dbb0286a-3096-4cb7-bcd7-9a6084a6a68a",
   "metadata": {},
   "outputs": [
    {
     "name": "stdout",
     "output_type": "stream",
     "text": [
      "question:  How do I extract keys from a dict into a list?\n",
      "Predicted label; b'python'\n",
      "question:  debug public static void main(string[] args) { print('Hello world') }\n",
      "Predicted label; b'java'\n",
      "question:  console.log('Hello JS')\n",
      "Predicted label; b'javascript'\n"
     ]
    }
   ],
   "source": [
    "for example, label in zip(examples, predicted_labels):\n",
    "    print(\"question: \", example)\n",
    "    print(\"Predicted label;\", label.numpy())"
   ]
  }
 ],
 "metadata": {
  "kernelspec": {
   "display_name": "Python 3 (ipykernel)",
   "language": "python",
   "name": "python3"
  },
  "language_info": {
   "codemirror_mode": {
    "name": "ipython",
    "version": 3
   },
   "file_extension": ".py",
   "mimetype": "text/x-python",
   "name": "python",
   "nbconvert_exporter": "python",
   "pygments_lexer": "ipython3",
   "version": "3.7.9"
  }
 },
 "nbformat": 4,
 "nbformat_minor": 5
}
