{
 "cells": [
  {
   "cell_type": "code",
   "execution_count": 107,
   "id": "7eb13489-8bf4-4484-8086-6f12a8dc2f02",
   "metadata": {},
   "outputs": [],
   "source": [
    "import matplotlib.pyplot as plt\n",
    "import os\n",
    "import re\n",
    "import shutil\n",
    "import string\n",
    "import tensorflow as tf\n",
    "import numpy as np"
   ]
  },
  {
   "cell_type": "code",
   "execution_count": 108,
   "id": "8996c92f-ef5b-4e45-aac2-1018d663031c",
   "metadata": {},
   "outputs": [],
   "source": [
    "from tensorflow.keras import layers\n",
    "from tensorflow.keras import losses"
   ]
  },
  {
   "cell_type": "code",
   "execution_count": 109,
   "id": "5c332ca7-6498-4418-a100-94fc8b362b4b",
   "metadata": {},
   "outputs": [],
   "source": [
    "url = \"https://ai.stanford.edu/~amaas/data/sentiment/aclImdb_v1.tar.gz\""
   ]
  },
  {
   "cell_type": "code",
   "execution_count": 110,
   "id": "9a695409-fbde-4951-9d70-81b4a5b70314",
   "metadata": {},
   "outputs": [],
   "source": [
    "dataset = tf.keras.utils.get_file(\"aclImdb_v1\", url, untar=True, cache_dir='.', cache_subdir='')"
   ]
  },
  {
   "cell_type": "code",
   "execution_count": 111,
   "id": "6e3bf677-abed-4aab-90b3-1b90a06c4267",
   "metadata": {},
   "outputs": [],
   "source": [
    "dataset_dir = os.path.join(os.path.dirname(dataset), 'aclImdb')"
   ]
  },
  {
   "cell_type": "code",
   "execution_count": 112,
   "id": "93ed4156-1191-4def-aaef-2e8d00677556",
   "metadata": {},
   "outputs": [
    {
     "data": {
      "text/plain": [
       "['train', 'test', 'README', 'imdbEr.txt', 'imdb.vocab']"
      ]
     },
     "execution_count": 112,
     "metadata": {},
     "output_type": "execute_result"
    }
   ],
   "source": [
    "os.listdir(dataset_dir)"
   ]
  },
  {
   "cell_type": "code",
   "execution_count": 113,
   "id": "ee0c18ac-aceb-4cea-9c62-fb6dfa1ba982",
   "metadata": {},
   "outputs": [],
   "source": [
    "train_dir = os.path.join(dataset_dir, 'train')"
   ]
  },
  {
   "cell_type": "code",
   "execution_count": 114,
   "id": "67aa9bbe-be09-464c-a5e8-69b02c304346",
   "metadata": {},
   "outputs": [
    {
     "data": {
      "text/plain": [
       "'./aclImdb/train'"
      ]
     },
     "execution_count": 114,
     "metadata": {},
     "output_type": "execute_result"
    }
   ],
   "source": [
    "train_dir"
   ]
  },
  {
   "cell_type": "code",
   "execution_count": 115,
   "id": "181590e5-1fa1-4756-b49c-1b868382ff2f",
   "metadata": {},
   "outputs": [
    {
     "data": {
      "text/plain": [
       "['labeledBow.feat',\n",
       " 'unsup',\n",
       " 'neg',\n",
       " 'urls_pos.txt',\n",
       " 'unsupBow.feat',\n",
       " 'urls_neg.txt',\n",
       " 'urls_unsup.txt',\n",
       " 'pos']"
      ]
     },
     "execution_count": 115,
     "metadata": {},
     "output_type": "execute_result"
    }
   ],
   "source": [
    "os.listdir(train_dir)"
   ]
  },
  {
   "cell_type": "code",
   "execution_count": 116,
   "id": "df5a968b-0e7b-437e-a7ea-e4ea1de94e7f",
   "metadata": {},
   "outputs": [],
   "source": [
    "remove_dir = os.path.join(train_dir, 'unsup')\n",
    "shutil.rmtree(remove_dir)"
   ]
  },
  {
   "cell_type": "code",
   "execution_count": 117,
   "id": "5b04ce64-5fa3-48a5-8c2d-0a6d9fcdc2b4",
   "metadata": {},
   "outputs": [],
   "source": [
    "sample_review_txt_file = os.path.join(train_dir, 'pos/1181_9.txt')"
   ]
  },
  {
   "cell_type": "code",
   "execution_count": 118,
   "id": "0b69725b-f2a3-4bae-aa1c-d8836d3ba67a",
   "metadata": {},
   "outputs": [
    {
     "name": "stdout",
     "output_type": "stream",
     "text": [
      "Rachel Griffiths writes and directs this award winning short film. A heartwarming story about coping with grief and cherishing the memory of those we've loved and lost. Although, only 15 minutes long, Griffiths manages to capture so much emotion and truth onto film in the short space of time. Bud Tingwell gives a touching performance as Will, a widower struggling to cope with his wife's death. Will is confronted by the harsh reality of loneliness and helplessness as he proceeds to take care of Ruth's pet cow, Tulip. The film displays the grief and responsibility one feels for those they have loved and lost. Good cinematography, great direction, and superbly acted. It will bring tears to all those who have lost a loved one, and survived.\n"
     ]
    }
   ],
   "source": [
    "with open(sample_review_txt_file) as f:\n",
    "    print(f.read())"
   ]
  },
  {
   "cell_type": "code",
   "execution_count": 119,
   "id": "28b8b496-8e46-4ad3-a427-6369aeb3d57f",
   "metadata": {},
   "outputs": [
    {
     "name": "stdout",
     "output_type": "stream",
     "text": [
      "Found 25000 files belonging to 2 classes.\n",
      "Using 18750 files for training.\n"
     ]
    }
   ],
   "source": [
    "batch_size = 64\n",
    "seed = 42\n",
    "raw_train_ds = tf.keras.utils.text_dataset_from_directory('aclImdb/train', batch_size=batch_size, validation_split=0.25, subset='training', seed=seed)"
   ]
  },
  {
   "cell_type": "code",
   "execution_count": 120,
   "id": "f6d64b83-db98-4a36-a240-f1c533e30195",
   "metadata": {},
   "outputs": [],
   "source": [
    "# for text_batch, label_batch in raw_train_ds.take(1):\n",
    "#     for i in range(5):\n",
    "#         print(\"Review\", text_batch.numpy()[i])\n",
    "#         print(\"Label\", label_batch.numpy()[i])"
   ]
  },
  {
   "cell_type": "code",
   "execution_count": 121,
   "id": "96a431e1-60e6-48a5-a8f4-6f0d145bafbc",
   "metadata": {},
   "outputs": [
    {
     "name": "stdout",
     "output_type": "stream",
     "text": [
      "Label 0 corresponds to neg\n",
      "Label 1 corresponds to pos\n"
     ]
    }
   ],
   "source": [
    "print(\"Label 0 corresponds to\", raw_train_ds.class_names[0])\n",
    "print(\"Label 1 corresponds to\", raw_train_ds.class_names[1])"
   ]
  },
  {
   "cell_type": "code",
   "execution_count": 122,
   "id": "9e098200-fdd5-4ff0-abd4-2c39a507cd43",
   "metadata": {},
   "outputs": [
    {
     "name": "stdout",
     "output_type": "stream",
     "text": [
      "Found 25000 files belonging to 2 classes.\n",
      "Using 18750 files for training.\n"
     ]
    }
   ],
   "source": [
    "raw_val_ds = tf.keras.utils.text_dataset_from_directory('aclImdb/train', batch_size=batch_size, validation_split=0.25, subset='training', seed=seed)"
   ]
  },
  {
   "cell_type": "code",
   "execution_count": 123,
   "id": "a512ea57-a902-4d01-b77f-988e4609d2a2",
   "metadata": {},
   "outputs": [
    {
     "name": "stdout",
     "output_type": "stream",
     "text": [
      "Found 25000 files belonging to 2 classes.\n"
     ]
    }
   ],
   "source": [
    "raw_test_ds = tf.keras.utils.text_dataset_from_directory('aclImdb/test', batch_size=batch_size)"
   ]
  },
  {
   "cell_type": "code",
   "execution_count": 124,
   "id": "a317b811-8b93-4f92-a382-1650713c3b81",
   "metadata": {},
   "outputs": [],
   "source": [
    "def remove_br_tag(input_data):\n",
    "    lowercase = tf.strings.lower(input_data)\n",
    "    stripped_html = tf.strings.regex_replace(lowercase, '<br />', ' ')\n",
    "    punc_less_text = tf.strings.regex_replace(stripped_html, '[%s]' % re.escape(string.punctuation), '')\n",
    "    return punc_less_text"
   ]
  },
  {
   "cell_type": "code",
   "execution_count": 125,
   "id": "a900ce72-0fe5-45fd-9ebf-05b049e3f553",
   "metadata": {},
   "outputs": [
    {
     "name": "stdout",
     "output_type": "stream",
     "text": [
      "i love johny   but   johny loves omer\n"
     ]
    }
   ],
   "source": [
    "tf.print(remove_br_tag('I love Johny, <br />, but, <br /> Johny loves Omer.'))"
   ]
  },
  {
   "cell_type": "code",
   "execution_count": 126,
   "id": "d96e8488-e6fa-43a3-ac23-117a14ccfa52",
   "metadata": {},
   "outputs": [
    {
     "name": "stdout",
     "output_type": "stream",
     "text": [
      "<function remove_br_tag at 0x7fd968da4d40>\n"
     ]
    }
   ],
   "source": [
    "tf.print(remove_br_tag)"
   ]
  },
  {
   "cell_type": "code",
   "execution_count": 127,
   "id": "ba1d6487-1080-42c4-9763-fc9eb39c17ee",
   "metadata": {},
   "outputs": [],
   "source": [
    "max_features = 10000\n",
    "sequence_length = 250"
   ]
  },
  {
   "cell_type": "code",
   "execution_count": 128,
   "id": "7d81ab4d-9834-4964-9966-a2b89c45b1a2",
   "metadata": {},
   "outputs": [],
   "source": [
    "vectorize_layer = layers.TextVectorization(standardize=remove_br_tag, max_tokens=max_features, output_mode='int', output_sequence_length=sequence_length)"
   ]
  },
  {
   "cell_type": "code",
   "execution_count": 129,
   "id": "3eafbd2c-7293-44f5-9144-9e8b0538c078",
   "metadata": {},
   "outputs": [
    {
     "data": {
      "text/plain": [
       "<keras.layers.preprocessing.text_vectorization.TextVectorization at 0x7fd9686b1810>"
      ]
     },
     "execution_count": 129,
     "metadata": {},
     "output_type": "execute_result"
    }
   ],
   "source": [
    "vectorize_layer"
   ]
  },
  {
   "cell_type": "code",
   "execution_count": 130,
   "id": "a26e36b7-6eb1-439d-a856-b285b5249bb1",
   "metadata": {},
   "outputs": [],
   "source": [
    "# We do not want label\n",
    "train_text = raw_train_ds.map(lambda x, y: x)"
   ]
  },
  {
   "cell_type": "code",
   "execution_count": 131,
   "id": "7f3d2868-7337-4595-b47c-4d6bceca59f3",
   "metadata": {},
   "outputs": [
    {
     "data": {
      "text/plain": [
       "<MapDataset element_spec=TensorSpec(shape=(None,), dtype=tf.string, name=None)>"
      ]
     },
     "execution_count": 131,
     "metadata": {},
     "output_type": "execute_result"
    }
   ],
   "source": [
    "train_text"
   ]
  },
  {
   "cell_type": "code",
   "execution_count": 132,
   "id": "bdbaa39f-a9e1-40b5-9709-7d49d865e24b",
   "metadata": {},
   "outputs": [],
   "source": [
    "vectorize_layer.adapt(train_text)"
   ]
  },
  {
   "cell_type": "code",
   "execution_count": 133,
   "id": "273c49d1-cfa6-468e-a2c0-b35f2ce45eee",
   "metadata": {},
   "outputs": [],
   "source": [
    "# See the result of using this layer to preprocess some data\n",
    "def vectorize_text(text, label):\n",
    "    text = tf.expand_dims(text, -1)\n",
    "    return vectorize_layer(text), label"
   ]
  },
  {
   "cell_type": "code",
   "execution_count": 134,
   "id": "3e14e8b6-538a-4bfb-a51d-aabc28d6683d",
   "metadata": {},
   "outputs": [],
   "source": [
    "# retrive a batch (of 32 reviews and labels) from the dataset because recall, we set the batch size = 32\n",
    "text_batch, label_batch = next(iter(raw_train_ds))"
   ]
  },
  {
   "cell_type": "code",
   "execution_count": 135,
   "id": "a9f9fd8b-41bd-47c1-9daa-30d493b3b208",
   "metadata": {},
   "outputs": [],
   "source": [
    "first_review, first_label = text_batch[0], label_batch[0]\n",
    "last_review, last_label = text_batch[31], label_batch[31]"
   ]
  },
  {
   "cell_type": "code",
   "execution_count": 136,
   "id": "e0c52d34-68eb-42b6-8d29-e78c277478a8",
   "metadata": {},
   "outputs": [
    {
     "data": {
      "text/plain": [
       "<tf.Tensor: shape=(), dtype=string, numpy=b\"In order to rate this movie fairly you have to think about the genre it's supposed to be: children's. They had more guidelines to follow in order to make this movie (meaning it could not get away with some of the humor and or language from the 1st) taking all that in this movie was fun and enjoyable to watch. Sequels usually make me nervous, however this one did pretty well for itself. Knowing that it didn't have the star power of Fraiser as George they capitalized on the humor and i believe Showeman did pretty well as the lead. The plot being easy to follow and maybe campy at times fits well for a younger audience, if you want to watch a movie and hope for academy award honors this is not it, but if you want to watch a simple, fun, energy filled movie you would make a good choice with this one.\">"
      ]
     },
     "execution_count": 136,
     "metadata": {},
     "output_type": "execute_result"
    }
   ],
   "source": [
    "last_review"
   ]
  },
  {
   "cell_type": "code",
   "execution_count": 137,
   "id": "f955e3a3-ec34-4e76-9fcb-b8a69ce49740",
   "metadata": {},
   "outputs": [
    {
     "name": "stdout",
     "output_type": "stream",
     "text": [
      "review: tf.Tensor(b'I honestly had no idea that the Notorious B.I.G. (Bert I. Gordon the director; not the murdered rapper) was still active in the 80\\'s! I always presumed the deliciously inept \"Empire of the Ants\" stood as his last masterful accomplishment in the horror genre, but that was before my dirty little hands stumbled upon an ancient and dusty VHS copy of \"The Coming\", a totally obscure and unheard of witchery-movie that actually turned out a more or less pleasant surprise! What starts out as a seemingly atmospheric tale of late Dark Ages soon takes a silly turn when a villager of year 1692 inexplicably becomes transferred to present day Salum, Massachusetts and promptly attacks a girl in the history museum. For you see, this particular girl is the reincarnation of Ann Putman who was a bona fide evil girl in 1692 and falsely accused over twenty people of practicing witchcraft which led to their executions at the state. The man who attacked Loreen lost his wife and daughter this and wants his overdue revenge. But poor and three centuries older Loreen is just an innocent schoolgirl, \\xc2\\x85 or is she? \"Burned at the Stake\" unfolds like a mixture between \"The Exorcist\" and \"Witchfinder General\" with a tad bit of \"The Time Machine\" thrown in for good measure. Way to go, Bert! The plot becomes sillier and more senseless with every new twist but at least it never transcends into complete boredom, like too often the case in other contemporary witchcraft movies like \"The Dunwich Horror\" and \"The Devonsville Terror\". The film jumps back and forth between the events in present day and flashbacks of 1692; which keeps it rather amusing and fast-paced. The Ann Putman girl is quite a fascinating character, reminiscent of the Abigail Williams character in the more commonly known stage play \"The Crucible\" (also depicted by Winona Ryder in the 1996 motion picture). There are a couple of cool death sequences, like the teacher in the graveyard or the journalist in the library, that are committed by the ghost of malignant reverend who made a pact with Ann Putman and perhaps even the Devil himself. The film gets pretty spastic and completely absurd near the end, but overall there\\'s some good cheesy fun to be had. Plus, the least you can say about Bert I. Gordon is that he definitely build up some directorial competences over the years.', shape=(), dtype=string)\n"
     ]
    }
   ],
   "source": [
    "print(\"review:\", first_review)"
   ]
  },
  {
   "cell_type": "code",
   "execution_count": 138,
   "id": "ecf839e5-3fb6-4b8e-8751-53cf2e81a4f3",
   "metadata": {},
   "outputs": [
    {
     "name": "stdout",
     "output_type": "stream",
     "text": [
      "label neg\n"
     ]
    }
   ],
   "source": [
    "print(\"label\", raw_train_ds.class_names[first_label])"
   ]
  },
  {
   "cell_type": "code",
   "execution_count": 139,
   "id": "33346604-4eda-4ff7-946b-dd6c69639c7d",
   "metadata": {},
   "outputs": [
    {
     "name": "stdout",
     "output_type": "stream",
     "text": [
      "Vectorized review: (<tf.Tensor: shape=(1, 250), dtype=int64, numpy=\n",
      "array([[   8,  659,    6, 1080,   11,   17, 1018,   22,   25,    6,  102,\n",
      "          42,    2,  506,   29,  408,    6,   26, 2510,   34,   66,   50,\n",
      "           1,    6,  811,    8,  659,    6,   96,   11,   17, 1193,    9,\n",
      "          98,   21,   75,  238,   16,   46,    5,    2,  475,    3,   41,\n",
      "        1066,   35,    2, 3291,  653,   31,   12,    8,   11,   17,   13,\n",
      "         244,    3,  730,    6,  103, 2149,  611,   96,   69, 4366,  190,\n",
      "          11,   28,  117,  178,   73,   15,  407, 1200,   12,    9,  152,\n",
      "          25,    2,  324,  656,    5,    1,   14,  715,   34,    1,   20,\n",
      "           2,  475,    3,   10,  258,    1,  117,  178,   73,   14,    2,\n",
      "         485,    2,  112,  108,  762,    6,  811,    3,  277, 2843,   30,\n",
      "         206, 2262,   73,   15,    4, 1160,  307,   45,   22,  179,    6,\n",
      "         103,    4,   17,    3,  423,   15, 1742, 1352,    1,   11,    7,\n",
      "          21,    9,   18,   45,   22,  179,    6,  103,    4,  590,  244,\n",
      "        1679, 1115,   17,   22,   59,   96,    4,   49, 1083,   16,   11,\n",
      "          28,    0,    0,    0,    0,    0,    0,    0,    0,    0,    0,\n",
      "           0,    0,    0,    0,    0,    0,    0,    0,    0,    0,    0,\n",
      "           0,    0,    0,    0,    0,    0,    0,    0,    0,    0,    0,\n",
      "           0,    0,    0,    0,    0,    0,    0,    0,    0,    0,    0,\n",
      "           0,    0,    0,    0,    0,    0,    0,    0,    0,    0,    0,\n",
      "           0,    0,    0,    0,    0,    0,    0,    0,    0,    0,    0,\n",
      "           0,    0,    0,    0,    0,    0,    0,    0,    0,    0,    0,\n",
      "           0,    0,    0,    0,    0,    0,    0,    0,    0,    0,    0,\n",
      "           0,    0,    0,    0,    0,    0,    0,    0]])>, <tf.Tensor: shape=(), dtype=int32, numpy=1>)\n"
     ]
    }
   ],
   "source": [
    "print(\"Vectorized review:\", vectorize_text(last_review, last_label))"
   ]
  },
  {
   "cell_type": "code",
   "execution_count": 140,
   "id": "a30b0dbd-8902-402f-a30b-63830c152a69",
   "metadata": {},
   "outputs": [
    {
     "name": "stdout",
     "output_type": "stream",
     "text": [
      "Vectorized review: (<tf.Tensor: shape=(1, 250), dtype=int64, numpy=\n",
      "array([[  10, 1201,   66,   58,  315,   12,    2, 2811,  199, 7082,   10,\n",
      "        2292,    2,  171,   21,    2, 1937,    1,   13,  124, 5784,    8,\n",
      "           2,  847,   10,  207,    1,    2, 6043, 2909, 3730,    5,    2,\n",
      "        5186, 3138,   14,   24,  228, 4771, 8359,    8,    2,  193,  506,\n",
      "          18,   12,   13,  153,   54, 1684,  111,  957, 5453,  716,   33,\n",
      "        2218,    3, 9723, 1924, 1012,    5,    2,  579,    4,  470, 3678,\n",
      "           3,    1,    5,    1,   12,  158,  709,   44,    4,   50,   41,\n",
      "         323, 2049,  840,   48,  500,   44,   14,    4, 1513, 3006,  815,\n",
      "           5,  537,  444, 2053,  524,  294,    4,  686,  456,   51,    4,\n",
      "           1,    5,  336,    1, 4775,  454, 9293,    6, 1011,  254,    1,\n",
      "           1,    3, 6185, 2645,    4,  247,    8,    2,  463, 5218,   15,\n",
      "          22,   67,   11,  796,  247,    7,    2, 8645,    5, 2208,    1,\n",
      "          36,   13,    4,    1,    1,  435,  247,    8,    1,    3,    1,\n",
      "        3353,  126, 2173,   77,    5,    1, 6369,   60, 1623,    6,   64,\n",
      "           1,   30,    2, 1121,    2,  131,   36, 2902,    1,  412,   24,\n",
      "         316,    3,  573,   11,    3,  478,   24,    1, 1072,   18,  341,\n",
      "           3,  296, 7371,  908,    1,    7,   40,   33, 1309,    1, 5371,\n",
      "          41,    7,   55, 3631,   30,    2, 7703, 4017,   38,    4, 4207,\n",
      "         189,    2, 6026,    3,    1,  786,   16,    4, 4244,  222,    5,\n",
      "           2,   57, 1702, 1311,    8,   15,   49, 3857,   95,    6,  137,\n",
      "        7082,    2,  112,  454,    1,    3,   50, 4057,   16,  166,  156,\n",
      "         997,   18,   30,  212,    9,  109,    1,   79,  552, 3111,   38,\n",
      "          99,  394,    2,  397,    8,   78, 2439, 6369]])>, <tf.Tensor: shape=(), dtype=int32, numpy=0>)\n"
     ]
    }
   ],
   "source": [
    "print(\"Vectorized review:\", vectorize_text(first_review, first_label))"
   ]
  },
  {
   "cell_type": "code",
   "execution_count": 141,
   "id": "11026bfd-026a-4a7e-af17-9e09c4d7f001",
   "metadata": {},
   "outputs": [
    {
     "name": "stdout",
     "output_type": "stream",
     "text": [
      "6 --->  to\n",
      "1538 --->  compare\n",
      "11 --->  this\n",
      "1 --->  [UNK]\n",
      "16 --->  with\n",
      "Vocabulary size: 10000\n"
     ]
    }
   ],
   "source": [
    "print(\"6 ---> \", vectorize_layer.get_vocabulary()[6])\n",
    "print(\"1538 ---> \", vectorize_layer.get_vocabulary()[1538])\n",
    "print(\"11 ---> \", vectorize_layer.get_vocabulary()[11])\n",
    "print(\"1 ---> \", vectorize_layer.get_vocabulary()[1])\n",
    "print(\"16 ---> \", vectorize_layer.get_vocabulary()[16])\n",
    "\n",
    "print('Vocabulary size: {}'.format(len(vectorize_layer.get_vocabulary())))"
   ]
  },
  {
   "cell_type": "code",
   "execution_count": 142,
   "id": "313d175e-698d-441f-9fa4-c26cc6bfeb1b",
   "metadata": {},
   "outputs": [
    {
     "name": "stdout",
     "output_type": "stream",
     "text": [
      "b'I honestly had no idea that the Notorious B.I.G. (Bert I. Gordon the director; not the murdered rapper) was still active in the 80\\'s! I always presumed the deliciously inept \"Empire of the Ants\" stood as his last masterful accomplishment in the horror genre, but that was before my dirty little hands stumbled upon an ancient and dusty VHS copy of \"The Coming\", a totally obscure and unheard of witchery-movie that actually turned out a more or less pleasant surprise! What starts out as a seemingly atmospheric tale of late Dark Ages soon takes a silly turn when a villager of year 1692 inexplicably becomes transferred to present day Salum, Massachusetts and promptly attacks a girl in the history museum. For you see, this particular girl is the reincarnation of Ann Putman who was a bona fide evil girl in 1692 and falsely accused over twenty people of practicing witchcraft which led to their executions at the state. The man who attacked Loreen lost his wife and daughter this and wants his overdue revenge. But poor and three centuries older Loreen is just an innocent schoolgirl, \\xc2\\x85 or is she? \"Burned at the Stake\" unfolds like a mixture between \"The Exorcist\" and \"Witchfinder General\" with a tad bit of \"The Time Machine\" thrown in for good measure. Way to go, Bert! The plot becomes sillier and more senseless with every new twist but at least it never transcends into complete boredom, like too often the case in other contemporary witchcraft movies like \"The Dunwich Horror\" and \"The Devonsville Terror\". The film jumps back and forth between the events in present day and flashbacks of 1692; which keeps it rather amusing and fast-paced. The Ann Putman girl is quite a fascinating character, reminiscent of the Abigail Williams character in the more commonly known stage play \"The Crucible\" (also depicted by Winona Ryder in the 1996 motion picture). There are a couple of cool death sequences, like the teacher in the graveyard or the journalist in the library, that are committed by the ghost of malignant reverend who made a pact with Ann Putman and perhaps even the Devil himself. The film gets pretty spastic and completely absurd near the end, but overall there\\'s some good cheesy fun to be had. Plus, the least you can say about Bert I. Gordon is that he definitely build up some directorial competences over the years.'\n"
     ]
    }
   ],
   "source": [
    "print(np.array(first_review))"
   ]
  },
  {
   "cell_type": "code",
   "execution_count": 143,
   "id": "8ec1b2c9-54d6-4875-b216-b19be5176c95",
   "metadata": {},
   "outputs": [
    {
     "data": {
      "text/plain": [
       "tensorflow.python.framework.ops.EagerTensor"
      ]
     },
     "execution_count": 143,
     "metadata": {},
     "output_type": "execute_result"
    }
   ],
   "source": [
    "type(first_review)"
   ]
  },
  {
   "cell_type": "code",
   "execution_count": 144,
   "id": "5a8a26b3-8b53-4707-bc53-86a2364b41d9",
   "metadata": {},
   "outputs": [
    {
     "name": "stdout",
     "output_type": "stream",
     "text": [
      "tf.Tensor(b'I honestly had no idea that the Notorious B.I.G. (Bert I. Gordon the director; not the murdered rapper) was still active in the 80\\'s! I always presumed the deliciously inept \"Empire of the Ants\" stood as his last masterful accomplishment in the horror genre, but that was before my dirty little hands stumbled upon an ancient and dusty VHS copy of \"The Coming\", a totally obscure and unheard of witchery-movie that actually turned out a more or less pleasant surprise! What starts out as a seemingly atmospheric tale of late Dark Ages soon takes a silly turn when a villager of year 1692 inexplicably becomes transferred to present day Salum, Massachusetts and promptly attacks a girl in the history museum. For you see, this particular girl is the reincarnation of Ann Putman who was a bona fide evil girl in 1692 and falsely accused over twenty people of practicing witchcraft which led to their executions at the state. The man who attacked Loreen lost his wife and daughter this and wants his overdue revenge. But poor and three centuries older Loreen is just an innocent schoolgirl, \\xc2\\x85 or is she? \"Burned at the Stake\" unfolds like a mixture between \"The Exorcist\" and \"Witchfinder General\" with a tad bit of \"The Time Machine\" thrown in for good measure. Way to go, Bert! The plot becomes sillier and more senseless with every new twist but at least it never transcends into complete boredom, like too often the case in other contemporary witchcraft movies like \"The Dunwich Horror\" and \"The Devonsville Terror\". The film jumps back and forth between the events in present day and flashbacks of 1692; which keeps it rather amusing and fast-paced. The Ann Putman girl is quite a fascinating character, reminiscent of the Abigail Williams character in the more commonly known stage play \"The Crucible\" (also depicted by Winona Ryder in the 1996 motion picture). There are a couple of cool death sequences, like the teacher in the graveyard or the journalist in the library, that are committed by the ghost of malignant reverend who made a pact with Ann Putman and perhaps even the Devil himself. The film gets pretty spastic and completely absurd near the end, but overall there\\'s some good cheesy fun to be had. Plus, the least you can say about Bert I. Gordon is that he definitely build up some directorial competences over the years.', shape=(), dtype=string)\n"
     ]
    }
   ],
   "source": [
    "print(first_review)"
   ]
  },
  {
   "cell_type": "code",
   "execution_count": 145,
   "id": "cd7ee853-3529-419a-bee3-42ab2b5ab746",
   "metadata": {},
   "outputs": [],
   "source": [
    "# Finalize the dataset\n",
    "train_ds = raw_train_ds.map(vectorize_text)\n",
    "val_ds = raw_val_ds.map(vectorize_text)\n",
    "test_ds = raw_test_ds.map(vectorize_text)"
   ]
  },
  {
   "cell_type": "code",
   "execution_count": 146,
   "id": "5b20545e-8e7b-4160-bd39-3cce25b6fa9d",
   "metadata": {},
   "outputs": [
    {
     "data": {
      "text/plain": [
       "<MapDataset element_spec=(TensorSpec(shape=(None, 250), dtype=tf.int64, name=None), TensorSpec(shape=(None,), dtype=tf.int32, name=None))>"
      ]
     },
     "execution_count": 146,
     "metadata": {},
     "output_type": "execute_result"
    }
   ],
   "source": [
    "test_ds"
   ]
  },
  {
   "cell_type": "code",
   "execution_count": 147,
   "id": "2fb2f119-a0a6-47ae-b0df-c02580efa479",
   "metadata": {},
   "outputs": [
    {
     "data": {
      "text/plain": [
       "<MapDataset element_spec=(TensorSpec(shape=(None, 250), dtype=tf.int64, name=None), TensorSpec(shape=(None,), dtype=tf.int32, name=None))>"
      ]
     },
     "execution_count": 147,
     "metadata": {},
     "output_type": "execute_result"
    }
   ],
   "source": [
    "val_ds"
   ]
  },
  {
   "cell_type": "code",
   "execution_count": 148,
   "id": "fe5908f9-3cff-46ae-9061-89659c1d7fc2",
   "metadata": {},
   "outputs": [
    {
     "data": {
      "text/plain": [
       "<MapDataset element_spec=(TensorSpec(shape=(None, 250), dtype=tf.int64, name=None), TensorSpec(shape=(None,), dtype=tf.int32, name=None))>"
      ]
     },
     "execution_count": 148,
     "metadata": {},
     "output_type": "execute_result"
    }
   ],
   "source": [
    "train_ds"
   ]
  },
  {
   "cell_type": "code",
   "execution_count": 149,
   "id": "32c0a2a4-1641-45db-90f4-5c47b4939fb8",
   "metadata": {},
   "outputs": [],
   "source": [
    "#optimization for a performant training process\n",
    "AUTOTUNE = tf.data.AUTOTUNE\n",
    "\n",
    "train_ds = train_ds.cache().prefetch(buffer_size=AUTOTUNE)\n",
    "val_ds = val_ds.cache().prefetch(buffer_size=AUTOTUNE)\n",
    "test_ds = test_ds.cache().prefetch(buffer_size=AUTOTUNE)"
   ]
  },
  {
   "cell_type": "code",
   "execution_count": 150,
   "id": "402cb972-b72b-4e63-b0bc-8ec2142bee6e",
   "metadata": {},
   "outputs": [],
   "source": [
    "embedding_dim = 16"
   ]
  },
  {
   "cell_type": "code",
   "execution_count": 151,
   "id": "a3a57d46-2e80-4bb5-9586-8d328b6230b8",
   "metadata": {},
   "outputs": [],
   "source": [
    "model = tf.keras.Sequential([\n",
    "    layers.Embedding(max_features + 1, embedding_dim),\n",
    "    layers.Dropout(0.2),\n",
    "    layers.GlobalAveragePooling1D(),\n",
    "    layers.Dropout(0.2),\n",
    "    layers.Dense(1)\n",
    "])"
   ]
  },
  {
   "cell_type": "code",
   "execution_count": 152,
   "id": "f07009f9-aca2-4916-b559-063b2f1772d3",
   "metadata": {},
   "outputs": [
    {
     "data": {
      "text/plain": [
       "<keras.engine.sequential.Sequential at 0x7fd968bab6d0>"
      ]
     },
     "execution_count": 152,
     "metadata": {},
     "output_type": "execute_result"
    }
   ],
   "source": [
    "model"
   ]
  },
  {
   "cell_type": "code",
   "execution_count": 153,
   "id": "8aa6afb7-8df7-4994-9fed-5a602a4baf10",
   "metadata": {},
   "outputs": [
    {
     "name": "stdout",
     "output_type": "stream",
     "text": [
      "Model: \"sequential_1\"\n",
      "_________________________________________________________________\n",
      " Layer (type)                Output Shape              Param #   \n",
      "=================================================================\n",
      " embedding_1 (Embedding)     (None, None, 16)          160016    \n",
      "                                                                 \n",
      " dropout_2 (Dropout)         (None, None, 16)          0         \n",
      "                                                                 \n",
      " global_average_pooling1d_1   (None, 16)               0         \n",
      " (GlobalAveragePooling1D)                                        \n",
      "                                                                 \n",
      " dropout_3 (Dropout)         (None, 16)                0         \n",
      "                                                                 \n",
      " dense_1 (Dense)             (None, 1)                 17        \n",
      "                                                                 \n",
      "=================================================================\n",
      "Total params: 160,033\n",
      "Trainable params: 160,033\n",
      "Non-trainable params: 0\n",
      "_________________________________________________________________\n"
     ]
    }
   ],
   "source": [
    "model.summary()"
   ]
  },
  {
   "cell_type": "code",
   "execution_count": 154,
   "id": "9f8036e1-c8cb-4ddf-89f1-f60d709a6f25",
   "metadata": {},
   "outputs": [],
   "source": [
    "model.compile(loss=losses.BinaryCrossentropy(from_logits=True), optimizer='adam', metrics=tf.metrics.BinaryAccuracy(threshold=0.0))"
   ]
  },
  {
   "cell_type": "code",
   "execution_count": 155,
   "id": "e0b79752-51a3-4b05-a7e3-00b5c7ea56fb",
   "metadata": {},
   "outputs": [],
   "source": [
    "epochs = 15"
   ]
  },
  {
   "cell_type": "code",
   "execution_count": 156,
   "id": "00b96e31-d2b2-4873-981d-98b21b5db60f",
   "metadata": {},
   "outputs": [
    {
     "name": "stdout",
     "output_type": "stream",
     "text": [
      "Epoch 1/15\n",
      "293/293 [==============================] - 8s 22ms/step - loss: 0.6796 - binary_accuracy: 0.6653 - val_loss: 0.6564 - val_binary_accuracy: 0.7667\n",
      "Epoch 2/15\n",
      "293/293 [==============================] - 5s 17ms/step - loss: 0.6240 - binary_accuracy: 0.7698 - val_loss: 0.5850 - val_binary_accuracy: 0.7955\n",
      "Epoch 3/15\n",
      "293/293 [==============================] - 5s 17ms/step - loss: 0.5510 - binary_accuracy: 0.8066 - val_loss: 0.5127 - val_binary_accuracy: 0.8266\n",
      "Epoch 4/15\n",
      "293/293 [==============================] - 5s 18ms/step - loss: 0.4850 - binary_accuracy: 0.8358 - val_loss: 0.4525 - val_binary_accuracy: 0.8509\n",
      "Epoch 5/15\n",
      "293/293 [==============================] - 5s 18ms/step - loss: 0.4324 - binary_accuracy: 0.8535 - val_loss: 0.4058 - val_binary_accuracy: 0.8644\n",
      "Epoch 6/15\n",
      "293/293 [==============================] - 5s 18ms/step - loss: 0.3922 - binary_accuracy: 0.8672 - val_loss: 0.3700 - val_binary_accuracy: 0.8742\n",
      "Epoch 7/15\n",
      "293/293 [==============================] - 5s 18ms/step - loss: 0.3610 - binary_accuracy: 0.8744 - val_loss: 0.3421 - val_binary_accuracy: 0.8807\n",
      "Epoch 8/15\n",
      "293/293 [==============================] - 5s 18ms/step - loss: 0.3364 - binary_accuracy: 0.8819 - val_loss: 0.3196 - val_binary_accuracy: 0.8874\n",
      "Epoch 9/15\n",
      "293/293 [==============================] - 5s 18ms/step - loss: 0.3159 - binary_accuracy: 0.8873 - val_loss: 0.3008 - val_binary_accuracy: 0.8943\n",
      "Epoch 10/15\n",
      "293/293 [==============================] - 5s 19ms/step - loss: 0.2982 - binary_accuracy: 0.8945 - val_loss: 0.2846 - val_binary_accuracy: 0.8994\n",
      "Epoch 11/15\n",
      "293/293 [==============================] - 6s 19ms/step - loss: 0.2834 - binary_accuracy: 0.8993 - val_loss: 0.2705 - val_binary_accuracy: 0.9045\n",
      "Epoch 12/15\n",
      "293/293 [==============================] - 5s 19ms/step - loss: 0.2704 - binary_accuracy: 0.9034 - val_loss: 0.2579 - val_binary_accuracy: 0.9090\n",
      "Epoch 13/15\n",
      "293/293 [==============================] - 5s 18ms/step - loss: 0.2591 - binary_accuracy: 0.9090 - val_loss: 0.2466 - val_binary_accuracy: 0.9144\n",
      "Epoch 14/15\n",
      "293/293 [==============================] - 5s 19ms/step - loss: 0.2480 - binary_accuracy: 0.9128 - val_loss: 0.2363 - val_binary_accuracy: 0.9178\n",
      "Epoch 15/15\n",
      "293/293 [==============================] - 5s 19ms/step - loss: 0.2384 - binary_accuracy: 0.9167 - val_loss: 0.2268 - val_binary_accuracy: 0.9214\n"
     ]
    }
   ],
   "source": [
    "history = model.fit(train_ds, validation_data=val_ds, epochs=epochs)"
   ]
  },
  {
   "cell_type": "code",
   "execution_count": 157,
   "id": "87e6c7f8-80f4-46ab-b812-7a929ac6abfa",
   "metadata": {},
   "outputs": [
    {
     "name": "stdout",
     "output_type": "stream",
     "text": [
      "391/391 [==============================] - 3s 7ms/step - loss: 0.3164 - binary_accuracy: 0.8718\n"
     ]
    }
   ],
   "source": [
    "loss, accuracy = model.evaluate(test_ds)"
   ]
  },
  {
   "cell_type": "code",
   "execution_count": 158,
   "id": "d96fa3b0-da2c-4fdd-90d9-24a684784dc1",
   "metadata": {},
   "outputs": [
    {
     "data": {
      "text/plain": [
       "dict_keys(['loss', 'binary_accuracy', 'val_loss', 'val_binary_accuracy'])"
      ]
     },
     "execution_count": 158,
     "metadata": {},
     "output_type": "execute_result"
    }
   ],
   "source": [
    "history_dict = history.history\n",
    "history_dict.keys()"
   ]
  },
  {
   "cell_type": "code",
   "execution_count": 159,
   "id": "1076dfee-1129-41f6-9988-1cf3c75f11cf",
   "metadata": {},
   "outputs": [
    {
     "data": {
      "text/plain": [
       "4"
      ]
     },
     "execution_count": 159,
     "metadata": {},
     "output_type": "execute_result"
    }
   ],
   "source": [
    "len(history_dict)"
   ]
  },
  {
   "cell_type": "code",
   "execution_count": 160,
   "id": "b54aad2b-70f0-431e-9d57-e2dc1dd410a2",
   "metadata": {},
   "outputs": [],
   "source": [
    "acc = history_dict['binary_accuracy']"
   ]
  },
  {
   "cell_type": "code",
   "execution_count": 161,
   "id": "fafb5dc3-608e-410d-8b96-5206b748030c",
   "metadata": {},
   "outputs": [
    {
     "data": {
      "text/plain": [
       "[0.6652799844741821,\n",
       " 0.7698133587837219,\n",
       " 0.8066133260726929,\n",
       " 0.8357866406440735,\n",
       " 0.853493332862854,\n",
       " 0.8672000169754028,\n",
       " 0.8744000196456909,\n",
       " 0.8819199800491333,\n",
       " 0.8872533440589905,\n",
       " 0.8944533467292786,\n",
       " 0.8993066549301147,\n",
       " 0.9034133553504944,\n",
       " 0.9089599847793579,\n",
       " 0.9128000140190125,\n",
       " 0.9167466759681702]"
      ]
     },
     "execution_count": 161,
     "metadata": {},
     "output_type": "execute_result"
    }
   ],
   "source": [
    "acc"
   ]
  },
  {
   "cell_type": "code",
   "execution_count": 162,
   "id": "9027060e-739c-440e-bc96-1a58081620e6",
   "metadata": {},
   "outputs": [],
   "source": [
    "val_acc = history_dict['val_binary_accuracy']"
   ]
  },
  {
   "cell_type": "code",
   "execution_count": 163,
   "id": "74d2e3c1-0262-4d79-ae12-2aed4ed6d4b2",
   "metadata": {},
   "outputs": [
    {
     "data": {
      "text/plain": [
       "[0.7667199969291687,\n",
       " 0.795520007610321,\n",
       " 0.8266133069992065,\n",
       " 0.8508800268173218,\n",
       " 0.8643733263015747,\n",
       " 0.8741866946220398,\n",
       " 0.8807466626167297,\n",
       " 0.8873599767684937,\n",
       " 0.8943466544151306,\n",
       " 0.8994133472442627,\n",
       " 0.904533326625824,\n",
       " 0.9089599847793579,\n",
       " 0.9143999814987183,\n",
       " 0.9178133606910706,\n",
       " 0.9214400053024292]"
      ]
     },
     "execution_count": 163,
     "metadata": {},
     "output_type": "execute_result"
    }
   ],
   "source": [
    "val_acc"
   ]
  },
  {
   "cell_type": "code",
   "execution_count": 164,
   "id": "e421c5fc-4e86-47ee-adf4-1ab8178c3600",
   "metadata": {},
   "outputs": [],
   "source": [
    "loss = history_dict['loss']"
   ]
  },
  {
   "cell_type": "code",
   "execution_count": 165,
   "id": "4832208f-9086-4d9b-b0b3-c9ce6a024e75",
   "metadata": {},
   "outputs": [
    {
     "data": {
      "text/plain": [
       "[0.6796130537986755,\n",
       " 0.6240207552909851,\n",
       " 0.5510237216949463,\n",
       " 0.4850105345249176,\n",
       " 0.4324186444282532,\n",
       " 0.39216843247413635,\n",
       " 0.3610328733921051,\n",
       " 0.3364439606666565,\n",
       " 0.3158623278141022,\n",
       " 0.29816606640815735,\n",
       " 0.28340524435043335,\n",
       " 0.27035415172576904,\n",
       " 0.2590736448764801,\n",
       " 0.24800236523151398,\n",
       " 0.23836013674736023]"
      ]
     },
     "execution_count": 165,
     "metadata": {},
     "output_type": "execute_result"
    }
   ],
   "source": [
    "loss"
   ]
  },
  {
   "cell_type": "code",
   "execution_count": 166,
   "id": "a1471a7d-705e-46ae-b3f8-f4bf5b87d3a0",
   "metadata": {},
   "outputs": [],
   "source": [
    "val_loss = history_dict['val_loss']"
   ]
  },
  {
   "cell_type": "code",
   "execution_count": 167,
   "id": "81c6aff1-859a-4cd5-b2cc-f3ddee36c867",
   "metadata": {},
   "outputs": [
    {
     "data": {
      "text/plain": [
       "[0.6563971042633057,\n",
       " 0.5850078463554382,\n",
       " 0.5126667022705078,\n",
       " 0.45254579186439514,\n",
       " 0.40580371022224426,\n",
       " 0.37003806233406067,\n",
       " 0.342108815908432,\n",
       " 0.31958410143852234,\n",
       " 0.3007665276527405,\n",
       " 0.28460028767585754,\n",
       " 0.2705215811729431,\n",
       " 0.2579381465911865,\n",
       " 0.24663794040679932,\n",
       " 0.23629598319530487,\n",
       " 0.22677581012248993]"
      ]
     },
     "execution_count": 167,
     "metadata": {},
     "output_type": "execute_result"
    }
   ],
   "source": [
    "val_loss"
   ]
  },
  {
   "cell_type": "code",
   "execution_count": 169,
   "id": "b3ed902b-b1b7-4766-92f1-eb7c2fab41e2",
   "metadata": {},
   "outputs": [],
   "source": [
    "# Plot the accuracy and loss\n",
    "# Start counting from 1\n",
    "epochs = range(1, len(acc) + 1)"
   ]
  },
  {
   "cell_type": "code",
   "execution_count": 174,
   "id": "59b496a3-05b0-4476-a425-3408b5079628",
   "metadata": {},
   "outputs": [
    {
     "data": {
      "image/png": "[encoded data removed]",
      "text/plain": [
       "<Figure size 432x288 with 1 Axes>"
      ]
     },
     "metadata": {
      "needs_background": "light"
     },
     "output_type": "display_data"
    }
   ],
   "source": [
    "plt.plot(epochs, loss, 'bo', label='Training loss') # bo stands for \"blue dot\"\n",
    "plt.plot(epochs, val_loss, 'b', label='validation loss') # b stands for \"blue\"\n",
    "plt.title('Training and validation loss')\n",
    "plt.xlabel('Epochs')\n",
    "plt.ylabel('Loss')\n",
    "plt.legend()\n",
    "plt.show()"
   ]
  },
  {
   "cell_type": "code",
   "execution_count": 178,
   "id": "9f1aa9de-5392-42ef-ac75-51a26c2aca42",
   "metadata": {},
   "outputs": [
    {
     "data": {
      "image/png": "[encoded data removed]",
      "text/plain": [
       "<Figure size 432x288 with 1 Axes>"
      ]
     },
     "metadata": {
      "needs_background": "light"
     },
     "output_type": "display_data"
    }
   ],
   "source": [
    "# Same plotting for the accuracy\n",
    "plt.plot(epochs, acc, 'ro', label='Training Acc') # bo stands for \"blue dot\"\n",
    "plt.plot(epochs, val_acc, 'r', label='Validation Acc') # b stands for \"blue\"\n",
    "plt.title('Training and validation accuracy')\n",
    "plt.xlabel('Epochs')\n",
    "plt.ylabel('Accuracy')\n",
    "plt.legend(loc='lower right')\n",
    "plt.show()"
   ]
  },
  {
   "cell_type": "code",
   "execution_count": 179,
   "id": "1e692040-0de5-45b6-bb5a-08db9baab40e",
   "metadata": {},
   "outputs": [],
   "source": [
    "# Export the model for the production use\n",
    "Model_for_inference = tf.keras.Sequential([vectorize_layer, model, layers.Activation('sigmoid')])"
   ]
  },
  {
   "cell_type": "code",
   "execution_count": 180,
   "id": "a681fabb-e4fa-413d-ac92-f815bf554cae",
   "metadata": {},
   "outputs": [
    {
     "name": "stdout",
     "output_type": "stream",
     "text": [
      "Model: \"sequential_2\"\n",
      "_________________________________________________________________\n",
      " Layer (type)                Output Shape              Param #   \n",
      "=================================================================\n",
      " text_vectorization_2 (TextV  (None, 250)              0         \n",
      " ectorization)                                                   \n",
      "                                                                 \n",
      " sequential_1 (Sequential)   (None, 1)                 160033    \n",
      "                                                                 \n",
      " activation (Activation)     (None, 1)                 0         \n",
      "                                                                 \n",
      "=================================================================\n",
      "Total params: 160,033\n",
      "Trainable params: 160,033\n",
      "Non-trainable params: 0\n",
      "_________________________________________________________________\n"
     ]
    }
   ],
   "source": [
    "Model_for_inference.summary()"
   ]
  },
  {
   "cell_type": "code",
   "execution_count": 181,
   "id": "6fdd5721-0c97-4a48-b049-64bbdb473a8d",
   "metadata": {},
   "outputs": [
    {
     "name": "stdout",
     "output_type": "stream",
     "text": [
      "Model: \"sequential_1\"\n",
      "_________________________________________________________________\n",
      " Layer (type)                Output Shape              Param #   \n",
      "=================================================================\n",
      " embedding_1 (Embedding)     (None, None, 16)          160016    \n",
      "                                                                 \n",
      " dropout_2 (Dropout)         (None, None, 16)          0         \n",
      "                                                                 \n",
      " global_average_pooling1d_1   (None, 16)               0         \n",
      " (GlobalAveragePooling1D)                                        \n",
      "                                                                 \n",
      " dropout_3 (Dropout)         (None, 16)                0         \n",
      "                                                                 \n",
      " dense_1 (Dense)             (None, 1)                 17        \n",
      "                                                                 \n",
      "=================================================================\n",
      "Total params: 160,033\n",
      "Trainable params: 160,033\n",
      "Non-trainable params: 0\n",
      "_________________________________________________________________\n"
     ]
    }
   ],
   "source": [
    "model.summary()"
   ]
  },
  {
   "cell_type": "code",
   "execution_count": 182,
   "id": "7d51b103-0760-43a1-9909-8282a8c6b528",
   "metadata": {},
   "outputs": [],
   "source": [
    "Model_for_inference.compile(loss=losses.BinaryCrossentropy(from_logits=False), optimizer='adam', metrics=['accuracy'])"
   ]
  },
  {
   "cell_type": "code",
   "execution_count": 184,
   "id": "8a70e255-1a54-48a8-a059-8be9a3c808ba",
   "metadata": {},
   "outputs": [
    {
     "name": "stdout",
     "output_type": "stream",
     "text": [
      "Model: \"sequential_2\"\n",
      "_________________________________________________________________\n",
      " Layer (type)                Output Shape              Param #   \n",
      "=================================================================\n",
      " text_vectorization_2 (TextV  (None, 250)              0         \n",
      " ectorization)                                                   \n",
      "                                                                 \n",
      " sequential_1 (Sequential)   (None, 1)                 160033    \n",
      "                                                                 \n",
      " activation (Activation)     (None, 1)                 0         \n",
      "                                                                 \n",
      "=================================================================\n",
      "Total params: 160,033\n",
      "Trainable params: 160,033\n",
      "Non-trainable params: 0\n",
      "_________________________________________________________________\n"
     ]
    }
   ],
   "source": [
    "Model_for_inference.summary()"
   ]
  },
  {
   "cell_type": "code",
   "execution_count": null,
   "id": "e0de1efa-9e02-4c25-a579-cb560c21a3ca",
   "metadata": {},
   "outputs": [],
   "source": [
    "examples = [\n",
    "        \"The movie was great!\",\n",
    "        \"The movie was okay\",\n",
    "        \"\n",
    "]"
   ]
  }
 ],
 "metadata": {
  "kernelspec": {
   "display_name": "Python 3 (ipykernel)",
   "language": "python",
   "name": "python3"
  },
  "language_info": {
   "codemirror_mode": {
    "name": "ipython",
    "version": 3
   },
   "file_extension": ".py",
   "mimetype": "text/x-python",
   "name": "python",
   "nbconvert_exporter": "python",
   "pygments_lexer": "ipython3",
   "version": "3.7.9"
  }
 },
 "nbformat": 4,
 "nbformat_minor": 5
}
