{
 "cells": [
  {
   "cell_type": "code",
   "execution_count": 1,
   "id": "7eb13489-8bf4-4484-8086-6f12a8dc2f02",
   "metadata": {},
   "outputs": [
    {
     "name": "stderr",
     "output_type": "stream",
     "text": [
      "2022-04-24 13:33:13.487461: W tensorflow/stream_executor/platform/default/dso_loader.cc:64] Could not load dynamic library 'libcudart.so.11.0'; dlerror: libcudart.so.11.0: cannot open shared object file: No such file or directory\n",
      "2022-04-24 13:33:13.487483: I tensorflow/stream_executor/cuda/cudart_stub.cc:29] Ignore above cudart dlerror if you do not have a GPU set up on your machine.\n"
     ]
    }
   ],
   "source": [
    "import matplotlib.pyplot as plt\n",
    "import os\n",
    "import re\n",
    "import shutil\n",
    "import string\n",
    "import tensorflow as tf\n",
    "import numpy as np"
   ]
  },
  {
   "cell_type": "code",
   "execution_count": 2,
   "id": "8996c92f-ef5b-4e45-aac2-1018d663031c",
   "metadata": {},
   "outputs": [],
   "source": [
    "from tensorflow.keras import layers\n",
    "from tensorflow.keras import losses"
   ]
  },
  {
   "cell_type": "code",
   "execution_count": 3,
   "id": "5c332ca7-6498-4418-a100-94fc8b362b4b",
   "metadata": {},
   "outputs": [],
   "source": [
    "url = \"https://ai.stanford.edu/~amaas/data/sentiment/aclImdb_v1.tar.gz\""
   ]
  },
  {
   "cell_type": "code",
   "execution_count": 4,
   "id": "9a695409-fbde-4951-9d70-81b4a5b70314",
   "metadata": {},
   "outputs": [
    {
     "name": "stdout",
     "output_type": "stream",
     "text": [
      "Downloading data from https://ai.stanford.edu/~amaas/data/sentiment/aclImdb_v1.tar.gz\n",
      "84131840/84125825 [==============================] - 39s 0us/step\n",
      "84140032/84125825 [==============================] - 39s 0us/step\n"
     ]
    }
   ],
   "source": [
    "dataset = tf.keras.utils.get_file(\"aclImdb_v1\", url, untar=True, cache_dir='.', cache_subdir='')"
   ]
  },
  {
   "cell_type": "code",
   "execution_count": 5,
   "id": "6e3bf677-abed-4aab-90b3-1b90a06c4267",
   "metadata": {},
   "outputs": [],
   "source": [
    "dataset_dir = os.path.join(os.path.dirname(dataset), 'aclImdb')"
   ]
  },
  {
   "cell_type": "code",
   "execution_count": 6,
   "id": "93ed4156-1191-4def-aaef-2e8d00677556",
   "metadata": {},
   "outputs": [
    {
     "data": {
      "text/plain": [
       "['README', 'imdbEr.txt', 'train', 'test', 'imdb.vocab']"
      ]
     },
     "execution_count": 6,
     "metadata": {},
     "output_type": "execute_result"
    }
   ],
   "source": [
    "os.listdir(dataset_dir)"
   ]
  },
  {
   "cell_type": "code",
   "execution_count": 7,
   "id": "ee0c18ac-aceb-4cea-9c62-fb6dfa1ba982",
   "metadata": {},
   "outputs": [],
   "source": [
    "train_dir = os.path.join(dataset_dir, 'train')"
   ]
  },
  {
   "cell_type": "code",
   "execution_count": 8,
   "id": "67aa9bbe-be09-464c-a5e8-69b02c304346",
   "metadata": {},
   "outputs": [
    {
     "data": {
      "text/plain": [
       "'./aclImdb/train'"
      ]
     },
     "execution_count": 8,
     "metadata": {},
     "output_type": "execute_result"
    }
   ],
   "source": [
    "train_dir"
   ]
  },
  {
   "cell_type": "code",
   "execution_count": 9,
   "id": "181590e5-1fa1-4756-b49c-1b868382ff2f",
   "metadata": {},
   "outputs": [
    {
     "data": {
      "text/plain": [
       "['urls_neg.txt',\n",
       " 'urls_pos.txt',\n",
       " 'pos',\n",
       " 'unsupBow.feat',\n",
       " 'neg',\n",
       " 'labeledBow.feat',\n",
       " 'urls_unsup.txt',\n",
       " 'unsup']"
      ]
     },
     "execution_count": 9,
     "metadata": {},
     "output_type": "execute_result"
    }
   ],
   "source": [
    "os.listdir(train_dir)"
   ]
  },
  {
   "cell_type": "code",
   "execution_count": 10,
   "id": "df5a968b-0e7b-437e-a7ea-e4ea1de94e7f",
   "metadata": {},
   "outputs": [],
   "source": [
    "remove_dir = os.path.join(train_dir, 'unsup')\n",
    "shutil.rmtree(remove_dir)"
   ]
  },
  {
   "cell_type": "code",
   "execution_count": 11,
   "id": "5b04ce64-5fa3-48a5-8c2d-0a6d9fcdc2b4",
   "metadata": {},
   "outputs": [],
   "source": [
    "sample_review_txt_file = os.path.join(train_dir, 'pos/1181_9.txt')"
   ]
  },
  {
   "cell_type": "code",
   "execution_count": 12,
   "id": "0b69725b-f2a3-4bae-aa1c-d8836d3ba67a",
   "metadata": {},
   "outputs": [
    {
     "name": "stdout",
     "output_type": "stream",
     "text": [
      "Rachel Griffiths writes and directs this award winning short film. A heartwarming story about coping with grief and cherishing the memory of those we've loved and lost. Although, only 15 minutes long, Griffiths manages to capture so much emotion and truth onto film in the short space of time. Bud Tingwell gives a touching performance as Will, a widower struggling to cope with his wife's death. Will is confronted by the harsh reality of loneliness and helplessness as he proceeds to take care of Ruth's pet cow, Tulip. The film displays the grief and responsibility one feels for those they have loved and lost. Good cinematography, great direction, and superbly acted. It will bring tears to all those who have lost a loved one, and survived.\n"
     ]
    }
   ],
   "source": [
    "with open(sample_review_txt_file) as f:\n",
    "    print(f.read())"
   ]
  },
  {
   "cell_type": "code",
   "execution_count": 13,
   "id": "28b8b496-8e46-4ad3-a427-6369aeb3d57f",
   "metadata": {},
   "outputs": [
    {
     "name": "stdout",
     "output_type": "stream",
     "text": [
      "Found 25000 files belonging to 2 classes.\n",
      "Using 18750 files for training.\n"
     ]
    },
    {
     "name": "stderr",
     "output_type": "stream",
     "text": [
      "2022-04-24 13:34:09.158138: W tensorflow/stream_executor/platform/default/dso_loader.cc:64] Could not load dynamic library 'libcuda.so.1'; dlerror: libcuda.so.1: cannot open shared object file: No such file or directory\n",
      "2022-04-24 13:34:09.158167: W tensorflow/stream_executor/cuda/cuda_driver.cc:269] failed call to cuInit: UNKNOWN ERROR (303)\n",
      "2022-04-24 13:34:09.158187: I tensorflow/stream_executor/cuda/cuda_diagnostics.cc:156] kernel driver does not appear to be running on this host (ehzgenusys): /proc/driver/nvidia/version does not exist\n",
      "2022-04-24 13:34:09.159548: I tensorflow/core/platform/cpu_feature_guard.cc:151] This TensorFlow binary is optimized with oneAPI Deep Neural Network Library (oneDNN) to use the following CPU instructions in performance-critical operations:  AVX2 FMA\n",
      "To enable them in other operations, rebuild TensorFlow with the appropriate compiler flags.\n"
     ]
    }
   ],
   "source": [
    "batch_size = 64\n",
    "seed = 42\n",
    "raw_train_ds = tf.keras.utils.text_dataset_from_directory('aclImdb/train', batch_size=batch_size, validation_split=0.25, subset='training', seed=seed)"
   ]
  },
  {
   "cell_type": "code",
   "execution_count": 14,
   "id": "f6d64b83-db98-4a36-a240-f1c533e30195",
   "metadata": {},
   "outputs": [],
   "source": [
    "# for text_batch, label_batch in raw_train_ds.take(1):\n",
    "#     for i in range(5):\n",
    "#         print(\"Review\", text_batch.numpy()[i])\n",
    "#         print(\"Label\", label_batch.numpy()[i])"
   ]
  },
  {
   "cell_type": "code",
   "execution_count": 15,
   "id": "96a431e1-60e6-48a5-a8f4-6f0d145bafbc",
   "metadata": {},
   "outputs": [
    {
     "name": "stdout",
     "output_type": "stream",
     "text": [
      "Label 0 corresponds to neg\n",
      "Label 1 corresponds to pos\n"
     ]
    }
   ],
   "source": [
    "print(\"Label 0 corresponds to\", raw_train_ds.class_names[0])\n",
    "print(\"Label 1 corresponds to\", raw_train_ds.class_names[1])"
   ]
  },
  {
   "cell_type": "code",
   "execution_count": 16,
   "id": "9e098200-fdd5-4ff0-abd4-2c39a507cd43",
   "metadata": {},
   "outputs": [
    {
     "name": "stdout",
     "output_type": "stream",
     "text": [
      "Found 25000 files belonging to 2 classes.\n",
      "Using 18750 files for training.\n"
     ]
    }
   ],
   "source": [
    "raw_val_ds = tf.keras.utils.text_dataset_from_directory('aclImdb/train', batch_size=batch_size, validation_split=0.25, subset='training', seed=seed)"
   ]
  },
  {
   "cell_type": "code",
   "execution_count": 17,
   "id": "a512ea57-a902-4d01-b77f-988e4609d2a2",
   "metadata": {},
   "outputs": [
    {
     "name": "stdout",
     "output_type": "stream",
     "text": [
      "Found 25000 files belonging to 2 classes.\n"
     ]
    }
   ],
   "source": [
    "raw_test_ds = tf.keras.utils.text_dataset_from_directory('aclImdb/test', batch_size=batch_size)"
   ]
  },
  {
   "cell_type": "code",
   "execution_count": 18,
   "id": "a317b811-8b93-4f92-a382-1650713c3b81",
   "metadata": {},
   "outputs": [],
   "source": [
    "def remove_br_tag(input_data):\n",
    "    lowercase = tf.strings.lower(input_data)\n",
    "    stripped_html = tf.strings.regex_replace(lowercase, '<br />', ' ')\n",
    "    punc_less_text = tf.strings.regex_replace(stripped_html, '[%s]' % re.escape(string.punctuation), '')\n",
    "    return punc_less_text"
   ]
  },
  {
   "cell_type": "code",
   "execution_count": 19,
   "id": "a900ce72-0fe5-45fd-9ebf-05b049e3f553",
   "metadata": {},
   "outputs": [
    {
     "name": "stdout",
     "output_type": "stream",
     "text": [
      "i love johny   but   johny loves omer\n"
     ]
    }
   ],
   "source": [
    "tf.print(remove_br_tag('I love Johny, <br />, but, <br /> Johny loves Omer.'))"
   ]
  },
  {
   "cell_type": "code",
   "execution_count": 20,
   "id": "d96e8488-e6fa-43a3-ac23-117a14ccfa52",
   "metadata": {},
   "outputs": [
    {
     "name": "stdout",
     "output_type": "stream",
     "text": [
      "<function remove_br_tag at 0x7f6d3c926440>\n"
     ]
    }
   ],
   "source": [
    "tf.print(remove_br_tag)"
   ]
  },
  {
   "cell_type": "code",
   "execution_count": 21,
   "id": "ba1d6487-1080-42c4-9763-fc9eb39c17ee",
   "metadata": {},
   "outputs": [],
   "source": [
    "max_features = 10000\n",
    "sequence_length = 250"
   ]
  },
  {
   "cell_type": "code",
   "execution_count": 22,
   "id": "7d81ab4d-9834-4964-9966-a2b89c45b1a2",
   "metadata": {},
   "outputs": [],
   "source": [
    "vectorize_layer = layers.TextVectorization(standardize=remove_br_tag, max_tokens=max_features, output_mode='int', output_sequence_length=sequence_length)"
   ]
  },
  {
   "cell_type": "code",
   "execution_count": 23,
   "id": "3eafbd2c-7293-44f5-9144-9e8b0538c078",
   "metadata": {},
   "outputs": [
    {
     "data": {
      "text/plain": [
       "<keras.layers.preprocessing.text_vectorization.TextVectorization at 0x7f6d3bd36ad0>"
      ]
     },
     "execution_count": 23,
     "metadata": {},
     "output_type": "execute_result"
    }
   ],
   "source": [
    "vectorize_layer"
   ]
  },
  {
   "cell_type": "code",
   "execution_count": 24,
   "id": "a26e36b7-6eb1-439d-a856-b285b5249bb1",
   "metadata": {},
   "outputs": [],
   "source": [
    "# We do not want label\n",
    "train_text = raw_train_ds.map(lambda x, y: x)"
   ]
  },
  {
   "cell_type": "code",
   "execution_count": 25,
   "id": "7f3d2868-7337-4595-b47c-4d6bceca59f3",
   "metadata": {},
   "outputs": [
    {
     "data": {
      "text/plain": [
       "<MapDataset element_spec=TensorSpec(shape=(None,), dtype=tf.string, name=None)>"
      ]
     },
     "execution_count": 25,
     "metadata": {},
     "output_type": "execute_result"
    }
   ],
   "source": [
    "train_text"
   ]
  },
  {
   "cell_type": "code",
   "execution_count": 26,
   "id": "bdbaa39f-a9e1-40b5-9709-7d49d865e24b",
   "metadata": {},
   "outputs": [],
   "source": [
    "vectorize_layer.adapt(train_text)"
   ]
  },
  {
   "cell_type": "code",
   "execution_count": 27,
   "id": "273c49d1-cfa6-468e-a2c0-b35f2ce45eee",
   "metadata": {},
   "outputs": [],
   "source": [
    "# See the result of using this layer to preprocess some data\n",
    "def vectorize_text(text, label):\n",
    "    text = tf.expand_dims(text, -1)\n",
    "    return vectorize_layer(text), label"
   ]
  },
  {
   "cell_type": "code",
   "execution_count": 28,
   "id": "3e14e8b6-538a-4bfb-a51d-aabc28d6683d",
   "metadata": {},
   "outputs": [],
   "source": [
    "# retrive a batch (of 32 reviews and labels) from the dataset because recall, we set the batch size = 32\n",
    "text_batch, label_batch = next(iter(raw_train_ds))"
   ]
  },
  {
   "cell_type": "code",
   "execution_count": 29,
   "id": "a9f9fd8b-41bd-47c1-9daa-30d493b3b208",
   "metadata": {},
   "outputs": [],
   "source": [
    "first_review, first_label = text_batch[0], label_batch[0]\n",
    "last_review, last_label = text_batch[31], label_batch[31]"
   ]
  },
  {
   "cell_type": "code",
   "execution_count": 30,
   "id": "e0c52d34-68eb-42b6-8d29-e78c277478a8",
   "metadata": {},
   "outputs": [
    {
     "data": {
      "text/plain": [
       "<tf.Tensor: shape=(), dtype=string, numpy=b\"In order to rate this movie fairly you have to think about the genre it's supposed to be: children's. They had more guidelines to follow in order to make this movie (meaning it could not get away with some of the humor and or language from the 1st) taking all that in this movie was fun and enjoyable to watch. Sequels usually make me nervous, however this one did pretty well for itself. Knowing that it didn't have the star power of Fraiser as George they capitalized on the humor and i believe Showeman did pretty well as the lead. The plot being easy to follow and maybe campy at times fits well for a younger audience, if you want to watch a movie and hope for academy award honors this is not it, but if you want to watch a simple, fun, energy filled movie you would make a good choice with this one.\">"
      ]
     },
     "execution_count": 30,
     "metadata": {},
     "output_type": "execute_result"
    }
   ],
   "source": [
    "last_review"
   ]
  },
  {
   "cell_type": "code",
   "execution_count": 31,
   "id": "f955e3a3-ec34-4e76-9fcb-b8a69ce49740",
   "metadata": {},
   "outputs": [
    {
     "name": "stdout",
     "output_type": "stream",
     "text": [
      "review: tf.Tensor(b'I honestly had no idea that the Notorious B.I.G. (Bert I. Gordon the director; not the murdered rapper) was still active in the 80\\'s! I always presumed the deliciously inept \"Empire of the Ants\" stood as his last masterful accomplishment in the horror genre, but that was before my dirty little hands stumbled upon an ancient and dusty VHS copy of \"The Coming\", a totally obscure and unheard of witchery-movie that actually turned out a more or less pleasant surprise! What starts out as a seemingly atmospheric tale of late Dark Ages soon takes a silly turn when a villager of year 1692 inexplicably becomes transferred to present day Salum, Massachusetts and promptly attacks a girl in the history museum. For you see, this particular girl is the reincarnation of Ann Putman who was a bona fide evil girl in 1692 and falsely accused over twenty people of practicing witchcraft which led to their executions at the state. The man who attacked Loreen lost his wife and daughter this and wants his overdue revenge. But poor and three centuries older Loreen is just an innocent schoolgirl, \\xc2\\x85 or is she? \"Burned at the Stake\" unfolds like a mixture between \"The Exorcist\" and \"Witchfinder General\" with a tad bit of \"The Time Machine\" thrown in for good measure. Way to go, Bert! The plot becomes sillier and more senseless with every new twist but at least it never transcends into complete boredom, like too often the case in other contemporary witchcraft movies like \"The Dunwich Horror\" and \"The Devonsville Terror\". The film jumps back and forth between the events in present day and flashbacks of 1692; which keeps it rather amusing and fast-paced. The Ann Putman girl is quite a fascinating character, reminiscent of the Abigail Williams character in the more commonly known stage play \"The Crucible\" (also depicted by Winona Ryder in the 1996 motion picture). There are a couple of cool death sequences, like the teacher in the graveyard or the journalist in the library, that are committed by the ghost of malignant reverend who made a pact with Ann Putman and perhaps even the Devil himself. The film gets pretty spastic and completely absurd near the end, but overall there\\'s some good cheesy fun to be had. Plus, the least you can say about Bert I. Gordon is that he definitely build up some directorial competences over the years.', shape=(), dtype=string)\n"
     ]
    }
   ],
   "source": [
    "print(\"review:\", first_review)"
   ]
  },
  {
   "cell_type": "code",
   "execution_count": 32,
   "id": "ecf839e5-3fb6-4b8e-8751-53cf2e81a4f3",
   "metadata": {},
   "outputs": [
    {
     "name": "stdout",
     "output_type": "stream",
     "text": [
      "label neg\n"
     ]
    }
   ],
   "source": [
    "print(\"label\", raw_train_ds.class_names[first_label])"
   ]
  },
  {
   "cell_type": "code",
   "execution_count": 33,
   "id": "33346604-4eda-4ff7-946b-dd6c69639c7d",
   "metadata": {},
   "outputs": [
    {
     "name": "stdout",
     "output_type": "stream",
     "text": [
      "Vectorized review: (<tf.Tensor: shape=(1, 250), dtype=int64, numpy=\n",
      "array([[   8,  659,    6, 1080,   11,   17, 1018,   22,   25,    6,  102,\n",
      "          42,    2,  506,   29,  408,    6,   26, 2510,   34,   66,   50,\n",
      "           1,    6,  811,    8,  659,    6,   96,   11,   17, 1193,    9,\n",
      "          98,   21,   75,  238,   16,   46,    5,    2,  475,    3,   41,\n",
      "        1066,   35,    2, 3291,  653,   31,   12,    8,   11,   17,   13,\n",
      "         244,    3,  730,    6,  103, 2149,  611,   96,   69, 4366,  190,\n",
      "          11,   28,  117,  178,   73,   15,  407, 1200,   12,    9,  152,\n",
      "          25,    2,  324,  656,    5,    1,   14,  715,   34,    1,   20,\n",
      "           2,  475,    3,   10,  258,    1,  117,  178,   73,   14,    2,\n",
      "         485,    2,  112,  108,  762,    6,  811,    3,  277, 2843,   30,\n",
      "         206, 2262,   73,   15,    4, 1160,  307,   45,   22,  179,    6,\n",
      "         103,    4,   17,    3,  423,   15, 1742, 1352,    1,   11,    7,\n",
      "          21,    9,   18,   45,   22,  179,    6,  103,    4,  590,  244,\n",
      "        1679, 1115,   17,   22,   59,   96,    4,   49, 1083,   16,   11,\n",
      "          28,    0,    0,    0,    0,    0,    0,    0,    0,    0,    0,\n",
      "           0,    0,    0,    0,    0,    0,    0,    0,    0,    0,    0,\n",
      "           0,    0,    0,    0,    0,    0,    0,    0,    0,    0,    0,\n",
      "           0,    0,    0,    0,    0,    0,    0,    0,    0,    0,    0,\n",
      "           0,    0,    0,    0,    0,    0,    0,    0,    0,    0,    0,\n",
      "           0,    0,    0,    0,    0,    0,    0,    0,    0,    0,    0,\n",
      "           0,    0,    0,    0,    0,    0,    0,    0,    0,    0,    0,\n",
      "           0,    0,    0,    0,    0,    0,    0,    0,    0,    0,    0,\n",
      "           0,    0,    0,    0,    0,    0,    0,    0]])>, <tf.Tensor: shape=(), dtype=int32, numpy=1>)\n"
     ]
    }
   ],
   "source": [
    "print(\"Vectorized review:\", vectorize_text(last_review, last_label))"
   ]
  },
  {
   "cell_type": "code",
   "execution_count": 34,
   "id": "a30b0dbd-8902-402f-a30b-63830c152a69",
   "metadata": {},
   "outputs": [
    {
     "name": "stdout",
     "output_type": "stream",
     "text": [
      "Vectorized review: (<tf.Tensor: shape=(1, 250), dtype=int64, numpy=\n",
      "array([[  10, 1201,   66,   58,  315,   12,    2, 2811,  199, 7082,   10,\n",
      "        2292,    2,  171,   21,    2, 1937,    1,   13,  124, 5784,    8,\n",
      "           2,  847,   10,  207,    1,    2, 6043, 2909, 3730,    5,    2,\n",
      "        5186, 3138,   14,   24,  228, 4771, 8359,    8,    2,  193,  506,\n",
      "          18,   12,   13,  153,   54, 1684,  111,  957, 5453,  716,   33,\n",
      "        2218,    3, 9723, 1924, 1012,    5,    2,  579,    4,  470, 3678,\n",
      "           3,    1,    5,    1,   12,  158,  709,   44,    4,   50,   41,\n",
      "         323, 2049,  840,   48,  500,   44,   14,    4, 1513, 3006,  815,\n",
      "           5,  537,  444, 2053,  524,  294,    4,  686,  456,   51,    4,\n",
      "           1,    5,  336,    1, 4775,  454, 9293,    6, 1011,  254,    1,\n",
      "           1,    3, 6185, 2645,    4,  247,    8,    2,  463, 5218,   15,\n",
      "          22,   67,   11,  796,  247,    7,    2, 8645,    5, 2208,    1,\n",
      "          36,   13,    4,    1,    1,  435,  247,    8,    1,    3,    1,\n",
      "        3353,  126, 2173,   77,    5,    1, 6369,   60, 1623,    6,   64,\n",
      "           1,   30,    2, 1121,    2,  131,   36, 2902,    1,  412,   24,\n",
      "         316,    3,  573,   11,    3,  478,   24,    1, 1072,   18,  341,\n",
      "           3,  296, 7371,  908,    1,    7,   40,   33, 1309,    1, 5371,\n",
      "          41,    7,   55, 3631,   30,    2, 7703, 4017,   38,    4, 4207,\n",
      "         189,    2, 6026,    3,    1,  786,   16,    4, 4244,  222,    5,\n",
      "           2,   57, 1702, 1311,    8,   15,   49, 3857,   95,    6,  137,\n",
      "        7082,    2,  112,  454,    1,    3,   50, 4057,   16,  166,  156,\n",
      "         997,   18,   30,  212,    9,  109,    1,   79,  552, 3111,   38,\n",
      "          99,  394,    2,  397,    8,   78, 2439, 6369]])>, <tf.Tensor: shape=(), dtype=int32, numpy=0>)\n"
     ]
    }
   ],
   "source": [
    "print(\"Vectorized review:\", vectorize_text(first_review, first_label))"
   ]
  },
  {
   "cell_type": "code",
   "execution_count": 35,
   "id": "11026bfd-026a-4a7e-af17-9e09c4d7f001",
   "metadata": {},
   "outputs": [
    {
     "name": "stdout",
     "output_type": "stream",
     "text": [
      "6 --->  to\n",
      "1538 --->  compare\n",
      "11 --->  this\n",
      "1 --->  [UNK]\n",
      "16 --->  with\n",
      "Vocabulary size: 10000\n"
     ]
    }
   ],
   "source": [
    "print(\"6 ---> \", vectorize_layer.get_vocabulary()[6])\n",
    "print(\"1538 ---> \", vectorize_layer.get_vocabulary()[1538])\n",
    "print(\"11 ---> \", vectorize_layer.get_vocabulary()[11])\n",
    "print(\"1 ---> \", vectorize_layer.get_vocabulary()[1])\n",
    "print(\"16 ---> \", vectorize_layer.get_vocabulary()[16])\n",
    "\n",
    "print('Vocabulary size: {}'.format(len(vectorize_layer.get_vocabulary())))"
   ]
  },
  {
   "cell_type": "code",
   "execution_count": 36,
   "id": "313d175e-698d-441f-9fa4-c26cc6bfeb1b",
   "metadata": {},
   "outputs": [
    {
     "name": "stdout",
     "output_type": "stream",
     "text": [
      "b'I honestly had no idea that the Notorious B.I.G. (Bert I. Gordon the director; not the murdered rapper) was still active in the 80\\'s! I always presumed the deliciously inept \"Empire of the Ants\" stood as his last masterful accomplishment in the horror genre, but that was before my dirty little hands stumbled upon an ancient and dusty VHS copy of \"The Coming\", a totally obscure and unheard of witchery-movie that actually turned out a more or less pleasant surprise! What starts out as a seemingly atmospheric tale of late Dark Ages soon takes a silly turn when a villager of year 1692 inexplicably becomes transferred to present day Salum, Massachusetts and promptly attacks a girl in the history museum. For you see, this particular girl is the reincarnation of Ann Putman who was a bona fide evil girl in 1692 and falsely accused over twenty people of practicing witchcraft which led to their executions at the state. The man who attacked Loreen lost his wife and daughter this and wants his overdue revenge. But poor and three centuries older Loreen is just an innocent schoolgirl, \\xc2\\x85 or is she? \"Burned at the Stake\" unfolds like a mixture between \"The Exorcist\" and \"Witchfinder General\" with a tad bit of \"The Time Machine\" thrown in for good measure. Way to go, Bert! The plot becomes sillier and more senseless with every new twist but at least it never transcends into complete boredom, like too often the case in other contemporary witchcraft movies like \"The Dunwich Horror\" and \"The Devonsville Terror\". The film jumps back and forth between the events in present day and flashbacks of 1692; which keeps it rather amusing and fast-paced. The Ann Putman girl is quite a fascinating character, reminiscent of the Abigail Williams character in the more commonly known stage play \"The Crucible\" (also depicted by Winona Ryder in the 1996 motion picture). There are a couple of cool death sequences, like the teacher in the graveyard or the journalist in the library, that are committed by the ghost of malignant reverend who made a pact with Ann Putman and perhaps even the Devil himself. The film gets pretty spastic and completely absurd near the end, but overall there\\'s some good cheesy fun to be had. Plus, the least you can say about Bert I. Gordon is that he definitely build up some directorial competences over the years.'\n"
     ]
    }
   ],
   "source": [
    "print(np.array(first_review))"
   ]
  },
  {
   "cell_type": "code",
   "execution_count": 37,
   "id": "8ec1b2c9-54d6-4875-b216-b19be5176c95",
   "metadata": {},
   "outputs": [
    {
     "data": {
      "text/plain": [
       "tensorflow.python.framework.ops.EagerTensor"
      ]
     },
     "execution_count": 37,
     "metadata": {},
     "output_type": "execute_result"
    }
   ],
   "source": [
    "type(first_review)"
   ]
  },
  {
   "cell_type": "code",
   "execution_count": 38,
   "id": "5a8a26b3-8b53-4707-bc53-86a2364b41d9",
   "metadata": {},
   "outputs": [
    {
     "name": "stdout",
     "output_type": "stream",
     "text": [
      "tf.Tensor(b'I honestly had no idea that the Notorious B.I.G. (Bert I. Gordon the director; not the murdered rapper) was still active in the 80\\'s! I always presumed the deliciously inept \"Empire of the Ants\" stood as his last masterful accomplishment in the horror genre, but that was before my dirty little hands stumbled upon an ancient and dusty VHS copy of \"The Coming\", a totally obscure and unheard of witchery-movie that actually turned out a more or less pleasant surprise! What starts out as a seemingly atmospheric tale of late Dark Ages soon takes a silly turn when a villager of year 1692 inexplicably becomes transferred to present day Salum, Massachusetts and promptly attacks a girl in the history museum. For you see, this particular girl is the reincarnation of Ann Putman who was a bona fide evil girl in 1692 and falsely accused over twenty people of practicing witchcraft which led to their executions at the state. The man who attacked Loreen lost his wife and daughter this and wants his overdue revenge. But poor and three centuries older Loreen is just an innocent schoolgirl, \\xc2\\x85 or is she? \"Burned at the Stake\" unfolds like a mixture between \"The Exorcist\" and \"Witchfinder General\" with a tad bit of \"The Time Machine\" thrown in for good measure. Way to go, Bert! The plot becomes sillier and more senseless with every new twist but at least it never transcends into complete boredom, like too often the case in other contemporary witchcraft movies like \"The Dunwich Horror\" and \"The Devonsville Terror\". The film jumps back and forth between the events in present day and flashbacks of 1692; which keeps it rather amusing and fast-paced. The Ann Putman girl is quite a fascinating character, reminiscent of the Abigail Williams character in the more commonly known stage play \"The Crucible\" (also depicted by Winona Ryder in the 1996 motion picture). There are a couple of cool death sequences, like the teacher in the graveyard or the journalist in the library, that are committed by the ghost of malignant reverend who made a pact with Ann Putman and perhaps even the Devil himself. The film gets pretty spastic and completely absurd near the end, but overall there\\'s some good cheesy fun to be had. Plus, the least you can say about Bert I. Gordon is that he definitely build up some directorial competences over the years.', shape=(), dtype=string)\n"
     ]
    }
   ],
   "source": [
    "print(first_review)"
   ]
  },
  {
   "cell_type": "code",
   "execution_count": 39,
   "id": "cd7ee853-3529-419a-bee3-42ab2b5ab746",
   "metadata": {},
   "outputs": [],
   "source": [
    "# Finalize the dataset\n",
    "train_ds = raw_train_ds.map(vectorize_text)\n",
    "val_ds = raw_val_ds.map(vectorize_text)\n",
    "test_ds = raw_test_ds.map(vectorize_text)"
   ]
  },
  {
   "cell_type": "code",
   "execution_count": 40,
   "id": "5b20545e-8e7b-4160-bd39-3cce25b6fa9d",
   "metadata": {},
   "outputs": [
    {
     "data": {
      "text/plain": [
       "<MapDataset element_spec=(TensorSpec(shape=(None, 250), dtype=tf.int64, name=None), TensorSpec(shape=(None,), dtype=tf.int32, name=None))>"
      ]
     },
     "execution_count": 40,
     "metadata": {},
     "output_type": "execute_result"
    }
   ],
   "source": [
    "test_ds"
   ]
  },
  {
   "cell_type": "code",
   "execution_count": 41,
   "id": "2fb2f119-a0a6-47ae-b0df-c02580efa479",
   "metadata": {},
   "outputs": [
    {
     "data": {
      "text/plain": [
       "<MapDataset element_spec=(TensorSpec(shape=(None, 250), dtype=tf.int64, name=None), TensorSpec(shape=(None,), dtype=tf.int32, name=None))>"
      ]
     },
     "execution_count": 41,
     "metadata": {},
     "output_type": "execute_result"
    }
   ],
   "source": [
    "val_ds"
   ]
  },
  {
   "cell_type": "code",
   "execution_count": 42,
   "id": "fe5908f9-3cff-46ae-9061-89659c1d7fc2",
   "metadata": {},
   "outputs": [
    {
     "data": {
      "text/plain": [
       "<MapDataset element_spec=(TensorSpec(shape=(None, 250), dtype=tf.int64, name=None), TensorSpec(shape=(None,), dtype=tf.int32, name=None))>"
      ]
     },
     "execution_count": 42,
     "metadata": {},
     "output_type": "execute_result"
    }
   ],
   "source": [
    "train_ds"
   ]
  },
  {
   "cell_type": "code",
   "execution_count": 43,
   "id": "32c0a2a4-1641-45db-90f4-5c47b4939fb8",
   "metadata": {},
   "outputs": [],
   "source": [
    "#optimization for a performant training process\n",
    "AUTOTUNE = tf.data.AUTOTUNE\n",
    "\n",
    "train_ds = train_ds.cache().prefetch(buffer_size=AUTOTUNE)\n",
    "val_ds = val_ds.cache().prefetch(buffer_size=AUTOTUNE)\n",
    "test_ds = test_ds.cache().prefetch(buffer_size=AUTOTUNE)"
   ]
  },
  {
   "cell_type": "code",
   "execution_count": 44,
   "id": "402cb972-b72b-4e63-b0bc-8ec2142bee6e",
   "metadata": {},
   "outputs": [],
   "source": [
    "embedding_dim = 16"
   ]
  },
  {
   "cell_type": "code",
   "execution_count": 45,
   "id": "a3a57d46-2e80-4bb5-9586-8d328b6230b8",
   "metadata": {},
   "outputs": [],
   "source": [
    "model = tf.keras.Sequential([\n",
    "    layers.Embedding(max_features + 1, embedding_dim),\n",
    "    layers.Dropout(0.2),\n",
    "    layers.GlobalAveragePooling1D(),\n",
    "    layers.Dropout(0.2),\n",
    "    layers.Dense(1)\n",
    "])"
   ]
  },
  {
   "cell_type": "code",
   "execution_count": 46,
   "id": "f07009f9-aca2-4916-b559-063b2f1772d3",
   "metadata": {},
   "outputs": [
    {
     "data": {
      "text/plain": [
       "<keras.engine.sequential.Sequential at 0x7f6d35de5510>"
      ]
     },
     "execution_count": 46,
     "metadata": {},
     "output_type": "execute_result"
    }
   ],
   "source": [
    "model"
   ]
  },
  {
   "cell_type": "code",
   "execution_count": 47,
   "id": "8aa6afb7-8df7-4994-9fed-5a602a4baf10",
   "metadata": {},
   "outputs": [
    {
     "name": "stdout",
     "output_type": "stream",
     "text": [
      "Model: \"sequential\"\n",
      "_________________________________________________________________\n",
      " Layer (type)                Output Shape              Param #   \n",
      "=================================================================\n",
      " embedding (Embedding)       (None, None, 16)          160016    \n",
      "                                                                 \n",
      " dropout (Dropout)           (None, None, 16)          0         \n",
      "                                                                 \n",
      " global_average_pooling1d (G  (None, 16)               0         \n",
      " lobalAveragePooling1D)                                          \n",
      "                                                                 \n",
      " dropout_1 (Dropout)         (None, 16)                0         \n",
      "                                                                 \n",
      " dense (Dense)               (None, 1)                 17        \n",
      "                                                                 \n",
      "=================================================================\n",
      "Total params: 160,033\n",
      "Trainable params: 160,033\n",
      "Non-trainable params: 0\n",
      "_________________________________________________________________\n"
     ]
    }
   ],
   "source": [
    "model.summary()"
   ]
  },
  {
   "cell_type": "code",
   "execution_count": 48,
   "id": "9f8036e1-c8cb-4ddf-89f1-f60d709a6f25",
   "metadata": {},
   "outputs": [],
   "source": [
    "model.compile(loss=losses.BinaryCrossentropy(from_logits=True), optimizer='adam', metrics=tf.metrics.BinaryAccuracy(threshold=0.0))"
   ]
  },
  {
   "cell_type": "code",
   "execution_count": 49,
   "id": "e0b79752-51a3-4b05-a7e3-00b5c7ea56fb",
   "metadata": {},
   "outputs": [],
   "source": [
    "epochs = 15"
   ]
  },
  {
   "cell_type": "code",
   "execution_count": 50,
   "id": "00b96e31-d2b2-4873-981d-98b21b5db60f",
   "metadata": {},
   "outputs": [
    {
     "name": "stdout",
     "output_type": "stream",
     "text": [
      "Epoch 1/15\n",
      "293/293 [==============================] - 4s 12ms/step - loss: 0.6827 - binary_accuracy: 0.6537 - val_loss: 0.6621 - val_binary_accuracy: 0.7639\n",
      "Epoch 2/15\n",
      "293/293 [==============================] - 2s 7ms/step - loss: 0.6290 - binary_accuracy: 0.7682 - val_loss: 0.5902 - val_binary_accuracy: 0.7902\n",
      "Epoch 3/15\n",
      "293/293 [==============================] - 2s 7ms/step - loss: 0.5558 - binary_accuracy: 0.8008 - val_loss: 0.5171 - val_binary_accuracy: 0.8225\n",
      "Epoch 4/15\n",
      "293/293 [==============================] - 2s 7ms/step - loss: 0.4894 - binary_accuracy: 0.8307 - val_loss: 0.4562 - val_binary_accuracy: 0.8490\n",
      "Epoch 5/15\n",
      "293/293 [==============================] - 3s 9ms/step - loss: 0.4351 - binary_accuracy: 0.8522 - val_loss: 0.4089 - val_binary_accuracy: 0.8626\n",
      "Epoch 6/15\n",
      "293/293 [==============================] - 3s 9ms/step - loss: 0.3944 - binary_accuracy: 0.8649 - val_loss: 0.3728 - val_binary_accuracy: 0.8719\n",
      "Epoch 7/15\n",
      "293/293 [==============================] - 3s 9ms/step - loss: 0.3637 - binary_accuracy: 0.8737 - val_loss: 0.3446 - val_binary_accuracy: 0.8794\n",
      "Epoch 8/15\n",
      "293/293 [==============================] - 2s 8ms/step - loss: 0.3381 - binary_accuracy: 0.8803 - val_loss: 0.3220 - val_binary_accuracy: 0.8859\n",
      "Epoch 9/15\n",
      "293/293 [==============================] - 2s 7ms/step - loss: 0.3180 - binary_accuracy: 0.8857 - val_loss: 0.3030 - val_binary_accuracy: 0.8929\n",
      "Epoch 10/15\n",
      "293/293 [==============================] - 2s 7ms/step - loss: 0.3011 - binary_accuracy: 0.8934 - val_loss: 0.2869 - val_binary_accuracy: 0.8977\n",
      "Epoch 11/15\n",
      "293/293 [==============================] - 2s 7ms/step - loss: 0.2859 - binary_accuracy: 0.8970 - val_loss: 0.2728 - val_binary_accuracy: 0.9033\n",
      "Epoch 12/15\n",
      "293/293 [==============================] - 2s 7ms/step - loss: 0.2726 - binary_accuracy: 0.9035 - val_loss: 0.2603 - val_binary_accuracy: 0.9079\n",
      "Epoch 13/15\n",
      "293/293 [==============================] - 2s 8ms/step - loss: 0.2611 - binary_accuracy: 0.9078 - val_loss: 0.2490 - val_binary_accuracy: 0.9128\n",
      "Epoch 14/15\n",
      "293/293 [==============================] - 2s 7ms/step - loss: 0.2508 - binary_accuracy: 0.9102 - val_loss: 0.2387 - val_binary_accuracy: 0.9162\n",
      "Epoch 15/15\n",
      "293/293 [==============================] - 2s 7ms/step - loss: 0.2399 - binary_accuracy: 0.9158 - val_loss: 0.2292 - val_binary_accuracy: 0.9202\n"
     ]
    }
   ],
   "source": [
    "history = model.fit(train_ds, validation_data=val_ds, epochs=epochs)"
   ]
  },
  {
   "cell_type": "code",
   "execution_count": 51,
   "id": "87e6c7f8-80f4-46ab-b812-7a929ac6abfa",
   "metadata": {},
   "outputs": [
    {
     "name": "stdout",
     "output_type": "stream",
     "text": [
      "391/391 [==============================] - 2s 4ms/step - loss: 0.3171 - binary_accuracy: 0.8713\n"
     ]
    }
   ],
   "source": [
    "loss, accuracy = model.evaluate(test_ds)"
   ]
  },
  {
   "cell_type": "code",
   "execution_count": 52,
   "id": "d96fa3b0-da2c-4fdd-90d9-24a684784dc1",
   "metadata": {},
   "outputs": [
    {
     "data": {
      "text/plain": [
       "dict_keys(['loss', 'binary_accuracy', 'val_loss', 'val_binary_accuracy'])"
      ]
     },
     "execution_count": 52,
     "metadata": {},
     "output_type": "execute_result"
    }
   ],
   "source": [
    "history_dict = history.history\n",
    "history_dict.keys()"
   ]
  },
  {
   "cell_type": "code",
   "execution_count": 53,
   "id": "1076dfee-1129-41f6-9988-1cf3c75f11cf",
   "metadata": {},
   "outputs": [
    {
     "data": {
      "text/plain": [
       "4"
      ]
     },
     "execution_count": 53,
     "metadata": {},
     "output_type": "execute_result"
    }
   ],
   "source": [
    "len(history_dict)"
   ]
  },
  {
   "cell_type": "code",
   "execution_count": 54,
   "id": "b54aad2b-70f0-431e-9d57-e2dc1dd410a2",
   "metadata": {},
   "outputs": [],
   "source": [
    "acc = history_dict['binary_accuracy']"
   ]
  },
  {
   "cell_type": "code",
   "execution_count": 55,
   "id": "fafb5dc3-608e-410d-8b96-5206b748030c",
   "metadata": {},
   "outputs": [
    {
     "data": {
      "text/plain": [
       "[0.6537066698074341,\n",
       " 0.7681599855422974,\n",
       " 0.8008000254631042,\n",
       " 0.8307200074195862,\n",
       " 0.8521599769592285,\n",
       " 0.8648533225059509,\n",
       " 0.8736533522605896,\n",
       " 0.8802666664123535,\n",
       " 0.8856533169746399,\n",
       " 0.8934400081634521,\n",
       " 0.8970133066177368,\n",
       " 0.9034666419029236,\n",
       " 0.9077866673469543,\n",
       " 0.9102399945259094,\n",
       " 0.9158400297164917]"
      ]
     },
     "execution_count": 55,
     "metadata": {},
     "output_type": "execute_result"
    }
   ],
   "source": [
    "acc"
   ]
  },
  {
   "cell_type": "code",
   "execution_count": 56,
   "id": "9027060e-739c-440e-bc96-1a58081620e6",
   "metadata": {},
   "outputs": [],
   "source": [
    "val_acc = history_dict['val_binary_accuracy']"
   ]
  },
  {
   "cell_type": "code",
   "execution_count": 57,
   "id": "74d2e3c1-0262-4d79-ae12-2aed4ed6d4b2",
   "metadata": {},
   "outputs": [
    {
     "data": {
      "text/plain": [
       "[0.7638933062553406,\n",
       " 0.7901866436004639,\n",
       " 0.8224533200263977,\n",
       " 0.8490133285522461,\n",
       " 0.862559974193573,\n",
       " 0.8718933463096619,\n",
       " 0.8794133067131042,\n",
       " 0.885866641998291,\n",
       " 0.892853319644928,\n",
       " 0.8977066874504089,\n",
       " 0.9033066630363464,\n",
       " 0.9078933596611023,\n",
       " 0.9128000140190125,\n",
       " 0.916159987449646,\n",
       " 0.9202133417129517]"
      ]
     },
     "execution_count": 57,
     "metadata": {},
     "output_type": "execute_result"
    }
   ],
   "source": [
    "val_acc"
   ]
  },
  {
   "cell_type": "code",
   "execution_count": 58,
   "id": "e421c5fc-4e86-47ee-adf4-1ab8178c3600",
   "metadata": {},
   "outputs": [],
   "source": [
    "loss = history_dict['loss']"
   ]
  },
  {
   "cell_type": "code",
   "execution_count": 59,
   "id": "4832208f-9086-4d9b-b0b3-c9ce6a024e75",
   "metadata": {},
   "outputs": [
    {
     "data": {
      "text/plain": [
       "[0.6826909184455872,\n",
       " 0.6290356516838074,\n",
       " 0.5558154582977295,\n",
       " 0.4893880784511566,\n",
       " 0.43514201045036316,\n",
       " 0.3944106101989746,\n",
       " 0.36365756392478943,\n",
       " 0.33810189366340637,\n",
       " 0.31801143288612366,\n",
       " 0.3010554313659668,\n",
       " 0.2858952283859253,\n",
       " 0.2726074159145355,\n",
       " 0.26112857460975647,\n",
       " 0.2507663667201996,\n",
       " 0.23993997275829315]"
      ]
     },
     "execution_count": 59,
     "metadata": {},
     "output_type": "execute_result"
    }
   ],
   "source": [
    "loss"
   ]
  },
  {
   "cell_type": "code",
   "execution_count": 60,
   "id": "a1471a7d-705e-46ae-b3f8-f4bf5b87d3a0",
   "metadata": {},
   "outputs": [],
   "source": [
    "val_loss = history_dict['val_loss']"
   ]
  },
  {
   "cell_type": "code",
   "execution_count": 61,
   "id": "81c6aff1-859a-4cd5-b2cc-f3ddee36c867",
   "metadata": {},
   "outputs": [
    {
     "data": {
      "text/plain": [
       "[0.6620550751686096,\n",
       " 0.5901567935943604,\n",
       " 0.5170685648918152,\n",
       " 0.45616161823272705,\n",
       " 0.4088669717311859,\n",
       " 0.3728097975254059,\n",
       " 0.3446415066719055,\n",
       " 0.3219718337059021,\n",
       " 0.3030399978160858,\n",
       " 0.28690287470817566,\n",
       " 0.2727910280227661,\n",
       " 0.2603455185890198,\n",
       " 0.24899627268314362,\n",
       " 0.23870457708835602,\n",
       " 0.22918963432312012]"
      ]
     },
     "execution_count": 61,
     "metadata": {},
     "output_type": "execute_result"
    }
   ],
   "source": [
    "val_loss"
   ]
  },
  {
   "cell_type": "code",
   "execution_count": 62,
   "id": "b3ed902b-b1b7-4766-92f1-eb7c2fab41e2",
   "metadata": {},
   "outputs": [],
   "source": [
    "# Plot the accuracy and loss\n",
    "# Start counting from 1\n",
    "epochs = range(1, len(acc) + 1)"
   ]
  },
  {
   "cell_type": "code",
   "execution_count": 63,
   "id": "59b496a3-05b0-4476-a425-3408b5079628",
   "metadata": {},
   "outputs": [
    {
     "data": {
      "image/png": "[encoded data removed]",
      "text/plain": [
       "<Figure size 432x288 with 1 Axes>"
      ]
     },
     "metadata": {
      "needs_background": "light"
     },
     "output_type": "display_data"
    }
   ],
   "source": [
    "plt.plot(epochs, loss, 'bo', label='Training loss') # bo stands for \"blue dot\"\n",
    "plt.plot(epochs, val_loss, 'b', label='validation loss') # b stands for \"blue\"\n",
    "plt.title('Training and validation loss')\n",
    "plt.xlabel('Epochs')\n",
    "plt.ylabel('Loss')\n",
    "plt.legend()\n",
    "plt.show()"
   ]
  },
  {
   "cell_type": "code",
   "execution_count": 64,
   "id": "9f1aa9de-5392-42ef-ac75-51a26c2aca42",
   "metadata": {},
   "outputs": [
    {
     "data": {
      "image/png": "[encoded data removed]",
      "text/plain": [
       "<Figure size 432x288 with 1 Axes>"
      ]
     },
     "metadata": {
      "needs_background": "light"
     },
     "output_type": "display_data"
    }
   ],
   "source": [
    "# Same plotting for the accuracy\n",
    "plt.plot(epochs, acc, 'ro', label='Training Acc') # bo stands for \"blue dot\"\n",
    "plt.plot(epochs, val_acc, 'r', label='Validation Acc') # b stands for \"blue\"\n",
    "plt.title('Training and validation accuracy')\n",
    "plt.xlabel('Epochs')\n",
    "plt.ylabel('Accuracy')\n",
    "plt.legend(loc='lower right')\n",
    "plt.show()"
   ]
  },
  {
   "cell_type": "code",
   "execution_count": 65,
   "id": "1e692040-0de5-45b6-bb5a-08db9baab40e",
   "metadata": {},
   "outputs": [],
   "source": [
    "# Export the model for the production use\n",
    "Model_for_inference = tf.keras.Sequential([vectorize_layer, model, layers.Activation('sigmoid')])"
   ]
  },
  {
   "cell_type": "code",
   "execution_count": 66,
   "id": "a681fabb-e4fa-413d-ac92-f815bf554cae",
   "metadata": {},
   "outputs": [
    {
     "name": "stdout",
     "output_type": "stream",
     "text": [
      "Model: \"sequential_1\"\n",
      "_________________________________________________________________\n",
      " Layer (type)                Output Shape              Param #   \n",
      "=================================================================\n",
      " text_vectorization (TextVec  (None, 250)              0         \n",
      " torization)                                                     \n",
      "                                                                 \n",
      " sequential (Sequential)     (None, 1)                 160033    \n",
      "                                                                 \n",
      " activation (Activation)     (None, 1)                 0         \n",
      "                                                                 \n",
      "=================================================================\n",
      "Total params: 160,033\n",
      "Trainable params: 160,033\n",
      "Non-trainable params: 0\n",
      "_________________________________________________________________\n"
     ]
    }
   ],
   "source": [
    "Model_for_inference.summary()"
   ]
  },
  {
   "cell_type": "code",
   "execution_count": 67,
   "id": "6fdd5721-0c97-4a48-b049-64bbdb473a8d",
   "metadata": {},
   "outputs": [
    {
     "name": "stdout",
     "output_type": "stream",
     "text": [
      "Model: \"sequential\"\n",
      "_________________________________________________________________\n",
      " Layer (type)                Output Shape              Param #   \n",
      "=================================================================\n",
      " embedding (Embedding)       (None, None, 16)          160016    \n",
      "                                                                 \n",
      " dropout (Dropout)           (None, None, 16)          0         \n",
      "                                                                 \n",
      " global_average_pooling1d (G  (None, 16)               0         \n",
      " lobalAveragePooling1D)                                          \n",
      "                                                                 \n",
      " dropout_1 (Dropout)         (None, 16)                0         \n",
      "                                                                 \n",
      " dense (Dense)               (None, 1)                 17        \n",
      "                                                                 \n",
      "=================================================================\n",
      "Total params: 160,033\n",
      "Trainable params: 160,033\n",
      "Non-trainable params: 0\n",
      "_________________________________________________________________\n"
     ]
    }
   ],
   "source": [
    "model.summary()"
   ]
  },
  {
   "cell_type": "code",
   "execution_count": 68,
   "id": "7d51b103-0760-43a1-9909-8282a8c6b528",
   "metadata": {},
   "outputs": [],
   "source": [
    "Model_for_inference.compile(loss=losses.BinaryCrossentropy(from_logits=False), optimizer='adam', metrics=['accuracy'])"
   ]
  },
  {
   "cell_type": "code",
   "execution_count": 69,
   "id": "8a70e255-1a54-48a8-a059-8be9a3c808ba",
   "metadata": {},
   "outputs": [
    {
     "name": "stdout",
     "output_type": "stream",
     "text": [
      "Model: \"sequential_1\"\n",
      "_________________________________________________________________\n",
      " Layer (type)                Output Shape              Param #   \n",
      "=================================================================\n",
      " text_vectorization (TextVec  (None, 250)              0         \n",
      " torization)                                                     \n",
      "                                                                 \n",
      " sequential (Sequential)     (None, 1)                 160033    \n",
      "                                                                 \n",
      " activation (Activation)     (None, 1)                 0         \n",
      "                                                                 \n",
      "=================================================================\n",
      "Total params: 160,033\n",
      "Trainable params: 160,033\n",
      "Non-trainable params: 0\n",
      "_________________________________________________________________\n"
     ]
    }
   ],
   "source": [
    "Model_for_inference.summary()"
   ]
  },
  {
   "cell_type": "code",
   "execution_count": 74,
   "id": "e0de1efa-9e02-4c25-a579-cb560c21a3ca",
   "metadata": {},
   "outputs": [],
   "source": [
    "examples = [\n",
    "        \"The movie was great!\",\n",
    "        \"The movie was okay\",\n",
    "        \"The movie was just trash\",\n",
    "        \"The movie seems alright\"\n",
    "]"
   ]
  },
  {
   "cell_type": "code",
   "execution_count": 75,
   "id": "1fe989e7-a498-48b5-871f-f96d4e6f2663",
   "metadata": {},
   "outputs": [
    {
     "name": "stdout",
     "output_type": "stream",
     "text": [
      "['The movie was great!',\n",
      " 'The movie was okay',\n",
      " 'The movie was just trash',\n",
      " 'The movie seems alright']\n"
     ]
    }
   ],
   "source": [
    "tf.print(examples)"
   ]
  },
  {
   "cell_type": "code",
   "execution_count": 91,
   "id": "62615d77-191d-4bd8-8164-e6b81362c5f1",
   "metadata": {},
   "outputs": [
    {
     "data": {
      "text/plain": [
       "array([[0.6019066 ],\n",
       "       [0.43569624],\n",
       "       [0.40394747],\n",
       "       [0.41219026]], dtype=float32)"
      ]
     },
     "execution_count": 91,
     "metadata": {},
     "output_type": "execute_result"
    }
   ],
   "source": [
    "Model_for_inference.predict(examples)"
   ]
  },
  {
   "cell_type": "code",
   "execution_count": 92,
   "id": "c57d7386-0ce5-4109-befd-5954c2be213e",
   "metadata": {},
   "outputs": [
    {
     "data": {
      "text/plain": [
       "4"
      ]
     },
     "execution_count": 92,
     "metadata": {},
     "output_type": "execute_result"
    }
   ],
   "source": [
    "len(Model_for_inference.predict(examples))"
   ]
  },
  {
   "cell_type": "code",
   "execution_count": 93,
   "id": "d3a24209-f9f6-481e-827d-ad5ba90a6f2e",
   "metadata": {},
   "outputs": [],
   "source": [
    "Exlist = list(Model_for_inference.predict(examples))"
   ]
  },
  {
   "cell_type": "code",
   "execution_count": 94,
   "id": "efb0160f-88c9-4d23-82ae-b4cd8b956858",
   "metadata": {},
   "outputs": [],
   "source": [
    "def greater(x):\n",
    "    if x >= 0.5:\n",
    "        return 'positive'\n",
    "    else:\n",
    "        return 'negative'\n",
    "    "
   ]
  },
  {
   "cell_type": "code",
   "execution_count": null,
   "id": "197b4375-2f04-46e8-94a7-149dcdd2796d",
   "metadata": {},
   "outputs": [],
   "source": []
  },
  {
   "cell_type": "code",
   "execution_count": 95,
   "id": "24228009-da69-4e0d-8ae9-d63e50605e04",
   "metadata": {},
   "outputs": [
    {
     "data": {
      "text/plain": [
       "'positive'"
      ]
     },
     "execution_count": 95,
     "metadata": {},
     "output_type": "execute_result"
    }
   ],
   "source": [
    "greater(.6019066)"
   ]
  },
  {
   "cell_type": "code",
   "execution_count": 96,
   "id": "4f71548f-8152-48ea-8321-c58fb89354de",
   "metadata": {},
   "outputs": [
    {
     "data": {
      "text/plain": [
       "numpy.ndarray"
      ]
     },
     "execution_count": 96,
     "metadata": {},
     "output_type": "execute_result"
    }
   ],
   "source": [
    "type(Exlist[0])"
   ]
  },
  {
   "cell_type": "code",
   "execution_count": 98,
   "id": "147626ee-5d21-4264-aee3-93bcce7aa8fc",
   "metadata": {},
   "outputs": [
    {
     "name": "stdout",
     "output_type": "stream",
     "text": [
      "0.6019066\n"
     ]
    }
   ],
   "source": [
    "print(Exlist[0][0])"
   ]
  },
  {
   "cell_type": "code",
   "execution_count": 105,
   "id": "d8531993-eca3-417b-bdf2-b27f43782c3e",
   "metadata": {},
   "outputs": [
    {
     "name": "stdout",
     "output_type": "stream",
     "text": [
      "positive\n",
      "negative\n",
      "negative\n",
      "negative\n"
     ]
    }
   ],
   "source": [
    "\n",
    "prediction_scores = []\n",
    "prediction_classified = []\n",
    "for row in Exlist:\n",
    "    for val in row:\n",
    "        prediction_scores.append(val)\n",
    "        prediction_classified.append(greater(val))\n",
    "        print(greater(val))\n",
    "        "
   ]
  },
  {
   "cell_type": "code",
   "execution_count": 106,
   "id": "5cc852fe-f30f-4280-8131-052c19d4a886",
   "metadata": {},
   "outputs": [
    {
     "data": {
      "text/plain": [
       "[0.6019066, 0.43569624, 0.40394747, 0.41219026]"
      ]
     },
     "execution_count": 106,
     "metadata": {},
     "output_type": "execute_result"
    }
   ],
   "source": [
    "prediction_scores"
   ]
  },
  {
   "cell_type": "code",
   "execution_count": 107,
   "id": "501688ae-e5fb-4799-998c-ce80486e51b0",
   "metadata": {},
   "outputs": [
    {
     "data": {
      "text/plain": [
       "['positive', 'negative', 'negative', 'negative']"
      ]
     },
     "execution_count": 107,
     "metadata": {},
     "output_type": "execute_result"
    }
   ],
   "source": [
    "prediction_classified"
   ]
  },
  {
   "cell_type": "code",
   "execution_count": 110,
   "id": "e991c12f-fe5f-4a87-a96d-c028f1dbaa78",
   "metadata": {},
   "outputs": [
    {
     "name": "stdout",
     "output_type": "stream",
     "text": [
      "('The movie was great!', 0.6019066, 'positive')\n",
      "('The movie was okay', 0.43569624, 'negative')\n",
      "('The movie was just trash', 0.40394747, 'negative')\n",
      "('The movie seems alright', 0.41219026, 'negative')\n"
     ]
    }
   ],
   "source": [
    "for item in zip(examples, prediction_scores, prediction_classified):\n",
    "    print(item)"
   ]
  },
  {
   "cell_type": "code",
   "execution_count": null,
   "id": "14675797-6e88-4a29-93f5-24f6fb76e8b6",
   "metadata": {},
   "outputs": [],
   "source": []
  }
 ],
 "metadata": {
  "kernelspec": {
   "display_name": "Python 3 (ipykernel)",
   "language": "python",
   "name": "python3"
  },
  "language_info": {
   "codemirror_mode": {
    "name": "ipython",
    "version": 3
   },
   "file_extension": ".py",
   "mimetype": "text/x-python",
   "name": "python",
   "nbconvert_exporter": "python",
   "pygments_lexer": "ipython3",
   "version": "3.10.4"
  }
 },
 "nbformat": 4,
 "nbformat_minor": 5
}
